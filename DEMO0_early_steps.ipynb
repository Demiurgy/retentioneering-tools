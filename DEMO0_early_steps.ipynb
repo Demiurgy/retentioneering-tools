{
 "cells": [
  {
   "cell_type": "markdown",
   "metadata": {},
   "source": [
    "# First steps"
   ]
  },
  {
   "cell_type": "code",
   "execution_count": null,
   "metadata": {},
   "outputs": [],
   "source": [
    "!git clone https://github.com/retentioneering/retentioneering-tools.git\n",
    "!python retentioneering-tools/setup.py install\n",
    "!pip install shap==0.29.1\n",
    "!pip install -I shap"
   ]
  },
  {
   "cell_type": "code",
   "execution_count": null,
   "metadata": {},
   "outputs": [],
   "source": [
    "PROJECT_PATH = 'retentioneering-tools'\n",
    "from importlib.machinery import SourceFileLoader\n",
    "somemodule = SourceFileLoader('retentioneering', 'retentioneering-tools/retentioneering/__init__.py').load_module()"
   ]
  },
  {
   "cell_type": "code",
   "execution_count": null,
   "metadata": {},
   "outputs": [],
   "source": [
    "from retentioneering import init_config\n",
    "import pandas as pd"
   ]
  },
  {
   "cell_type": "code",
   "execution_count": null,
   "metadata": {},
   "outputs": [],
   "source": []
  },
  {
   "cell_type": "markdown",
   "metadata": {},
   "source": [
    "Firstly, we need to initialize our config file"
   ]
  },
  {
   "cell_type": "code",
   "execution_count": null,
   "metadata": {},
   "outputs": [],
   "source": [
    "init_config(\n",
    "    experiments_folder='experiments', # folder for saving experiment results: graph visualization, heatmaps and etc.\n",
    "    index_col='user_pseudo_id', # column by which we split users / sessions / whatever\n",
    "    event_col='event_name', # column that describes event\n",
    "    event_time_col='event_timestamp', # column that describes timestamp of event\n",
    "    positive_target_event='passed', # name of positive target event\n",
    "    negative_target_event='lost', # name of negative target event\n",
    "    pos_target_definition={ # how to define positive event, e.g. empty means that add passed for whom was not 'lost'\n",
    "\n",
    "    },\n",
    "    neg_target_definition={ # how to define negative event, e.g. users who were inactive for 600 seconds.\n",
    "        'time_limit': 600\n",
    "    },\n",
    "#     neg_target_definition={ # you also can define target event as list of other events\n",
    "#         'event_list': ['lost']\n",
    "#     }\n",
    ")"
   ]
  },
  {
   "cell_type": "markdown",
   "metadata": {},
   "source": [
    "We need to create instance of pandas DataFrame with our data."
   ]
  },
  {
   "cell_type": "code",
   "execution_count": null,
   "metadata": {},
   "outputs": [],
   "source": [
    "import os\n",
    "os.chdir('retentioneering-tools')\n",
    "data = pd.read_csv('examples/data/train.csv')\n",
    "data = data.sort_values('event_timestamp')"
   ]
  },
  {
   "cell_type": "code",
   "execution_count": null,
   "metadata": {},
   "outputs": [],
   "source": [
    "data = data.retention.prepare()"
   ]
  },
  {
   "cell_type": "code",
   "execution_count": null,
   "metadata": {},
   "outputs": [],
   "source": [
    "data.head()"
   ]
  },
  {
   "cell_type": "code",
   "execution_count": null,
   "metadata": {},
   "outputs": [],
   "source": [
    "edgelist = data.retention.get_edgelist()\n",
    "edgelist.head()"
   ]
  },
  {
   "cell_type": "markdown",
   "metadata": {},
   "source": [
    "You can use any columns as edge source and target using `cols` param, by default it is equal to list of `event_col` and automatically created `next_event` (shift of it) is used.\n",
    "\n",
    "Also you can use any column and any aggregation e.g.\n",
    "one can calculate number of unique users, who passed through edge via next chunk"
   ]
  },
  {
   "cell_type": "code",
   "execution_count": null,
   "metadata": {},
   "outputs": [],
   "source": [
    "data.head()"
   ]
  },
  {
   "cell_type": "code",
   "execution_count": null,
   "metadata": {},
   "outputs": [],
   "source": [
    "edgelist = data.retention.get_edgelist(edge_col='user_pseudo_id', edge_attributes='users_nunique', norm=False)\n",
    "edgelist.sort_values('users_nunique', ascending=False).head()"
   ]
  },
  {
   "cell_type": "markdown",
   "metadata": {},
   "source": [
    "or adjacency matrix"
   ]
  },
  {
   "cell_type": "code",
   "execution_count": null,
   "metadata": {},
   "outputs": [],
   "source": [
    "data.retention.get_adjacency()"
   ]
  },
  {
   "cell_type": "markdown",
   "metadata": {},
   "source": [
    "All similar parameters work for adjacency matrix calculation."
   ]
  },
  {
   "cell_type": "code",
   "execution_count": null,
   "metadata": {},
   "outputs": [],
   "source": [
    "data.retention.get_adjacency(edge_col='user_pseudo_id', edge_attributes='users_nunique', norm=False)"
   ]
  },
  {
   "cell_type": "markdown",
   "metadata": {},
   "source": [
    "or we can simply visualize graph.\n",
    "\n",
    "By default weight in visualization is equal to rate of unique users, who pass the edge,\n",
    "you can change it to rate of all event occasions by turning `user_based` equal `False`."
   ]
  },
  {
   "cell_type": "code",
   "execution_count": null,
   "metadata": {},
   "outputs": [],
   "source": [
    "data.retention.plot_graph(thresh=0.05, width=800, height=800)"
   ]
  },
  {
   "cell_type": "markdown",
   "metadata": {},
   "source": [
    "If you change node positions and want to save resulting layout, you can click on donwload button and load it to graph visualizer as follows."
   ]
  },
  {
   "cell_type": "code",
   "execution_count": null,
   "metadata": {
    "scrolled": false
   },
   "outputs": [],
   "source": [
    "data.retention.plot_graph(layout_dump='node_params.json', width=800, height=800)"
   ]
  },
  {
   "cell_type": "markdown",
   "metadata": {},
   "source": [
    "Also you can use other data columns and aggregation functions from `retention.get_edgelist()` method (be sure that in this case `user_based=False`).\n",
    "\n",
    "For example, we can visualize mean time between events.\n",
    "\n",
    "Firtly, we should add column with time difference between event timestamps."
   ]
  },
  {
   "cell_type": "code",
   "execution_count": null,
   "metadata": {},
   "outputs": [],
   "source": [
    "data['seconds_between_events'] = (data.next_timestamp - data.event_timestamp) * 1e-9\n",
    "# use show_percent=False to visualize absolute value\n",
    "data.retention.plot_graph(user_based=False, edge_col='seconds_between_events', edge_attributes='time_mean', thresh=0.01, width=800, height=800, show_percent=False)"
   ]
  },
  {
   "cell_type": "markdown",
   "metadata": {},
   "source": [
    "# Temporal funnel"
   ]
  },
  {
   "cell_type": "markdown",
   "metadata": {},
   "source": [
    "Let's plot the temporal funnel. Rows correspond to different events and columns correspond to step number in the user trajectory, value corresponds to fraction of all users who had corresponding event at corresponding step. For example, you can see that all users in the analysis start from \"welcome_screen\" (step 1) and end ended up passed (~0.6) or lost (~0.4) after 24 steps"
   ]
  },
  {
   "cell_type": "code",
   "execution_count": null,
   "metadata": {},
   "outputs": [],
   "source": [
    "desc_table = data.retention.get_step_matrix(max_steps=30)"
   ]
  },
  {
   "cell_type": "markdown",
   "metadata": {},
   "source": [
    "And we can calculate temporal funnel difference between two groups"
   ]
  },
  {
   "cell_type": "code",
   "execution_count": null,
   "metadata": {},
   "outputs": [],
   "source": [
    "# create group filter based on target events\n",
    "diff_filter = data.retention.create_filter()\n",
    "\n",
    "# calculate difference table between two groups\n",
    "diff_table = data.retention.get_step_matrix_difference(diff_filter, max_steps=30)"
   ]
  },
  {
   "cell_type": "markdown",
   "metadata": {},
   "source": [
    "# Clustering"
   ]
  },
  {
   "cell_type": "markdown",
   "metadata": {},
   "source": [
    "We can use clustering with different visualizations"
   ]
  },
  {
   "cell_type": "markdown",
   "metadata": {},
   "source": [
    "Clutermap allows to see how important different events are for clustering.\n",
    "For example we can see that `onboarding_welcome_screen` is always equal, so it does not affect clustering, but `onboarding_chooseLoginType` varies accross users and creates some clusters."
   ]
  },
  {
   "cell_type": "code",
   "execution_count": null,
   "metadata": {},
   "outputs": [],
   "source": [
    "data.retention.get_clusters(plot_type='cluster_heatmap');"
   ]
  },
  {
   "cell_type": "markdown",
   "metadata": {},
   "source": [
    "Then it will be useful to visualize projection of user trajectories to understand how many clusters we have."
   ]
  },
  {
   "cell_type": "code",
   "execution_count": null,
   "metadata": {},
   "outputs": [],
   "source": [
    "data.retention.learn_tsne(plot_type='targets');"
   ]
  },
  {
   "cell_type": "markdown",
   "metadata": {},
   "source": [
    "We can see that projection is poor, so it will be good to tune it. To update TSNE weights we need to set `refit` parameter to `True`.\n",
    "\n",
    "Any parameter from `sklearn.manifold.TSNE` can be used, e.g. `perplexity` can help to obtain better visualization."
   ]
  },
  {
   "cell_type": "code",
   "execution_count": null,
   "metadata": {},
   "outputs": [],
   "source": [
    "data.retention.learn_tsne(perplexity=10, plot_type='targets', refit=True);"
   ]
  },
  {
   "cell_type": "markdown",
   "metadata": {},
   "source": [
    "Now we can see two dense cirle clusters.\n",
    "\n",
    "Any parameters from `sklearn.cluster.KMeans` can be used."
   ]
  },
  {
   "cell_type": "code",
   "execution_count": null,
   "metadata": {},
   "outputs": [],
   "source": [
    "data.retention.get_clusters(n_clusters=8, plot_type='cluster_tsne', refit_cluster=True);"
   ]
  },
  {
   "cell_type": "markdown",
   "metadata": {},
   "source": [
    "We do not use target events in clustering, so we can compare different groups in terms of what target event is likely to occur in them."
   ]
  },
  {
   "cell_type": "code",
   "execution_count": null,
   "metadata": {},
   "outputs": [],
   "source": [
    "data.retention.get_clusters(plot_type='cluster_pie');"
   ]
  },
  {
   "cell_type": "markdown",
   "metadata": {},
   "source": [
    "We can see that clusters `0` and `1` are pretty interesting, so we can visualize graph for them."
   ]
  },
  {
   "cell_type": "code",
   "execution_count": null,
   "metadata": {},
   "outputs": [],
   "source": [
    "(data\n",
    " .retention\n",
    " .filter_cluster(0)\n",
    " .retention\n",
    " .plot_graph(width=800, height=800))"
   ]
  },
  {
   "cell_type": "code",
   "execution_count": null,
   "metadata": {},
   "outputs": [],
   "source": [
    "(data\n",
    " .retention\n",
    " .filter_cluster(1)\n",
    " .retention\n",
    " .plot_graph(width=800, height=800))"
   ]
  },
  {
   "cell_type": "code",
   "execution_count": null,
   "metadata": {},
   "outputs": [],
   "source": [
    "(data\n",
    " .retention\n",
    " .filter_cluster(4)\n",
    " .retention\n",
    " .plot_graph(width=800, height=800))"
   ]
  },
  {
   "cell_type": "code",
   "execution_count": null,
   "metadata": {},
   "outputs": [],
   "source": [
    "(data\n",
    " .retention\n",
    " .filter_cluster(5)\n",
    " .retention\n",
    " .plot_graph(width=800, height=800))"
   ]
  },
  {
   "cell_type": "code",
   "execution_count": null,
   "metadata": {},
   "outputs": [],
   "source": [
    "(data\n",
    " .retention\n",
    " .filter_cluster(7)\n",
    " .retention\n",
    " .plot_graph(width=800, height=800))"
   ]
  },
  {
   "cell_type": "markdown",
   "metadata": {},
   "source": [
    "# Supervised classifier"
   ]
  },
  {
   "cell_type": "markdown",
   "metadata": {},
   "source": [
    "Supervised learning is usually better then clustering."
   ]
  },
  {
   "cell_type": "code",
   "execution_count": null,
   "metadata": {},
   "outputs": [],
   "source": [
    "model = data.retention.create_model()"
   ]
  },
  {
   "cell_type": "markdown",
   "metadata": {},
   "source": [
    "To understand what features are meaningful, we can visualize graph of weights.\n",
    "\n",
    "Larger the node or edge, larger its effect on probability of target event.\n",
    "Green nodes mean positive effect, red nodes -- negative."
   ]
  },
  {
   "cell_type": "code",
   "execution_count": null,
   "metadata": {},
   "outputs": [],
   "source": [
    "features = data.retention.extract_features(ngram_range=(1,2))\n",
    "target = features.index.isin(data.retention.get_positive_users())"
   ]
  },
  {
   "cell_type": "code",
   "execution_count": null,
   "metadata": {},
   "outputs": [],
   "source": [
    "model.permutation_importance(features, target, thresh=0.)"
   ]
  },
  {
   "cell_type": "markdown",
   "metadata": {},
   "source": [
    "You can use any different model with sklearn-api (ont only sklearn package has it e.g. `lightgm` can be used too).\n",
    "\n",
    "And pass params to it."
   ]
  },
  {
   "cell_type": "code",
   "execution_count": null,
   "metadata": {},
   "outputs": [],
   "source": [
    "from sklearn.ensemble import RandomForestClassifier\n",
    "model = data.retention.create_model(RandomForestClassifier, n_estimators=25)"
   ]
  },
  {
   "cell_type": "code",
   "execution_count": null,
   "metadata": {},
   "outputs": [],
   "source": [
    "features = data.retention.extract_features(ngram_range=(1,2))\n",
    "target = features.index.isin(data.retention.get_positive_users())"
   ]
  },
  {
   "cell_type": "code",
   "execution_count": null,
   "metadata": {},
   "outputs": [],
   "source": [
    "model.permutation_importance(features, target, thresh=0.)"
   ]
  },
  {
   "cell_type": "code",
   "execution_count": null,
   "metadata": {},
   "outputs": [],
   "source": []
  }
 ],
 "metadata": {
  "kernelspec": {
   "display_name": "Python 3",
   "language": "python",
   "name": "python3"
  },
  "language_info": {
   "codemirror_mode": {
    "name": "ipython",
    "version": 3
   },
   "file_extension": ".py",
   "mimetype": "text/x-python",
   "name": "python",
   "nbconvert_exporter": "python",
   "pygments_lexer": "ipython3",
   "version": "3.6.4"
  }
 },
 "nbformat": 4,
 "nbformat_minor": 2
}
