{
 "cells": [
  {
   "cell_type": "code",
   "execution_count": 1,
   "metadata": {},
   "outputs": [],
   "source": [
    "import networkx as nx\n",
    "import numpy as np\n",
    "import csv"
   ]
  },
  {
   "cell_type": "code",
   "execution_count": 2,
   "metadata": {},
   "outputs": [],
   "source": [
    "class Agent:\n",
    "    def __init__(self, aid, pos, G):\n",
    "        self.aid = aid\n",
    "        self.pos = pos\n",
    "        self.G = G"
   ]
  },
  {
   "cell_type": "code",
   "execution_count": 3,
   "metadata": {},
   "outputs": [],
   "source": [
    "M = np.random.rand(3,3)\n",
    "OM = np.random.rand(3,3)"
   ]
  },
  {
   "cell_type": "code",
   "execution_count": 4,
   "metadata": {},
   "outputs": [],
   "source": [
    "t = 0.2  # time for iteration\n",
    "\n",
    "N = 1000  # number of agents\n",
    "\n",
    "types = [(M, 200), (OM, 800)]  # define the types here\n",
    "\n",
    "sources = np.random.choice(nx.convert_matrix.from_numpy_matrix(types[0][0], create_using=nx.DiGraph).nodes(), size=int(0.1*len(nx.convert_matrix.from_numpy_matrix(types[0][0], create_using=nx.DiGraph)))+1, replace=False)  # define the starting nodes\n",
    "\n",
    "# initialize agents with matrices\n",
    "agents = []\n",
    "agent_id = 0\n",
    "\n",
    "for m, num in types:\n",
    "    G = nx.convert_matrix.from_numpy_matrix(m)\n",
    "    for _ in range(num):\n",
    "        agents.append(Agent(agent_id, np.random.choice(sources), G))\n",
    "        agent_id += 1"
   ]
  },
  {
   "cell_type": "code",
   "execution_count": 5,
   "metadata": {},
   "outputs": [],
   "source": [
    "def update_csv(it, agent):\n",
    "    with open('data.csv', 'a') as writeFile:\n",
    "        writer = csv.writer(writeFile)\n",
    "        writer.writerow([agent.aid, it, agent.pos])"
   ]
  },
  {
   "cell_type": "code",
   "execution_count": 8,
   "metadata": {},
   "outputs": [],
   "source": [
    "for agent in agents:\n",
    "    update_csv(0, agent)"
   ]
  },
  {
   "cell_type": "code",
   "execution_count": 9,
   "metadata": {},
   "outputs": [],
   "source": [
    "# simulate the walks\n",
    "limit = 10\n",
    "i = 1\n",
    "\n",
    "while i != limit:\n",
    "    for agent in agents:\n",
    "        weights = np.array([(key, value['weight']) for key, value in dict(agent.G[agent.pos]).items()])\n",
    "        if (1 - np.e ** -(np.sum(weights[:,1]) * t)) > np.random.rand():\n",
    "            agent.pos = np.random.choice(weights[:,0], p=weights[:,1] / np.sum(weights[:,1]))\n",
    "        update_csv(i, agent)\n",
    "    i += 1"
   ]
  },
  {
   "cell_type": "code",
   "execution_count": null,
   "metadata": {},
   "outputs": [],
   "source": []
  }
 ],
 "metadata": {
  "kernelspec": {
   "display_name": "Python 3",
   "language": "python",
   "name": "python3"
  },
  "language_info": {
   "codemirror_mode": {
    "name": "ipython",
    "version": 3
   },
   "file_extension": ".py",
   "mimetype": "text/x-python",
   "name": "python",
   "nbconvert_exporter": "python",
   "pygments_lexer": "ipython3",
   "version": "3.7.1"
  }
 },
 "nbformat": 4,
 "nbformat_minor": 2
}
