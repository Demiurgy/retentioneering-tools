{
 "cells": [
  {
   "cell_type": "markdown",
   "metadata": {},
   "source": [
    "In this example we will perform an analysis for the app focusing on investigation why people remove app. Our negative target even in this case will be \"app_remove\"."
   ]
  },
  {
   "cell_type": "code",
   "execution_count": 220,
   "metadata": {},
   "outputs": [
    {
     "name": "stderr",
     "output_type": "stream",
     "text": [
      "/Users/anatolyzaytsev/retentioneering-draft/retentioneering/core/utils.py:53: UserWarning: registration of accessor <class 'retentioneering.core.utils.init_config.<locals>.RetentioneeringTrajectory'> under name 'trajectory' for type <class 'pandas.core.frame.DataFrame'> is overriding a preexisting attribute with the same name.\n",
      "  class RetentioneeringTrajectory(BaseTrajectory):\n",
      "/Users/anatolyzaytsev/retentioneering-draft/retentioneering/core/utils.py:60: UserWarning: registration of accessor <class 'retentioneering.core.utils.init_config.<locals>.RetentioneeringDataset'> under name 'retention' for type <class 'pandas.core.frame.DataFrame'> is overriding a preexisting attribute with the same name.\n",
      "  class RetentioneeringDataset(BaseDataset):\n"
     ]
    }
   ],
   "source": [
    "from retentioneering import init_config\n",
    "import pandas as pd\n",
    "\n",
    "init_config(\n",
    "    experiments_folder='mobile-app', # folder for saving experiment results: graph visualization, heatmaps and etc.\n",
    "    index_col='user_pseudo_id', # column by which we split users / sessions / whatever\n",
    "    event_col='event_name', # column that describes event\n",
    "    event_time_col='event_timestamp', # column that describes timestamp of event\n",
    "    positive_target_event='not_screen4', # name of positive target event\n",
    "    pos_target_definition={},\n",
    "    negative_target_event='screen4', # name of positive target event\n",
    ")"
   ]
  },
  {
   "cell_type": "code",
   "execution_count": 230,
   "metadata": {},
   "outputs": [],
   "source": [
    "#data = pd.read_csv('examples/data/mobile-app-data.zip')\n",
    "data = pd.read_csv('data.csv')\n",
    "data = data.sort_values('event_timestamp')\n",
    "# problems with timestamp order\n",
    "#data.event_timestamp *= 1000\n",
    "# adds positive event\n",
    "data = data.retention.prepare()"
   ]
  },
  {
   "cell_type": "markdown",
   "metadata": {},
   "source": [
    "Firstly, we need to filter and aggregate events.\n",
    "\n",
    "To remove specific event simply click on the blue checkbox for selected event. To aggregare group of events to single parent event click on the smaller gray checkbox near parent event.\n",
    "\n",
    "Now let's remove system events, screen_view, os events, user_engagement, from app we need just app_remove, "
   ]
  },
  {
   "cell_type": "code",
   "execution_count": 225,
   "metadata": {},
   "outputs": [
    {
     "data": {
      "text/html": [
       "\n",
       "        <iframe\n",
       "            width=\"500\"\n",
       "            height=\"500\"\n",
       "            src=\"./filter.html\"\n",
       "            frameborder=\"0\"\n",
       "            allowfullscreen\n",
       "        ></iframe>\n",
       "        "
      ],
      "text/plain": [
       "<IPython.lib.display.IFrame at 0x1c2814a128>"
      ]
     },
     "metadata": {},
     "output_type": "display_data"
    }
   ],
   "source": [
    "data.retention.show_tree_selector()"
   ]
  },
  {
   "cell_type": "markdown",
   "metadata": {},
   "source": [
    "After that you need to download created filter with using \"Download Filter\" link.\n",
    "\n",
    "Now you can use this filter using next chunk.\n",
    "\n",
    "Below you can upload filter file we created for the cases we illustrate later in this notebook"
   ]
  },
  {
   "cell_type": "code",
   "execution_count": 223,
   "metadata": {},
   "outputs": [],
   "source": [
    "data = data.retention.use_tree_filter('filter_list.json')"
   ]
  },
  {
   "cell_type": "markdown",
   "metadata": {},
   "source": [
    "Lets split data into sessions"
   ]
  },
  {
   "cell_type": "code",
   "execution_count": 226,
   "metadata": {},
   "outputs": [],
   "source": [
    "data.retention.split_sessions(by_event='session_start')\n",
    "#data['user_session'] = data.user_pseudo_id + data.session.astype(int).astype(str)\n",
    "data['user_session'] = data.session.astype(int).astype(str)"
   ]
  },
  {
   "cell_type": "markdown",
   "metadata": {},
   "source": [
    "# Analysis"
   ]
  },
  {
   "cell_type": "markdown",
   "metadata": {},
   "source": [
    "## Step matrix"
   ]
  },
  {
   "cell_type": "code",
   "execution_count": null,
   "metadata": {},
   "outputs": [],
   "source": []
  },
  {
   "cell_type": "code",
   "execution_count": 227,
   "metadata": {},
   "outputs": [
    {
     "data": {
      "text/plain": [
       "911"
      ]
     },
     "execution_count": 227,
     "metadata": {},
     "output_type": "execute_result"
    }
   ],
   "source": [
    "len(data.retention.get_positive_users())"
   ]
  },
  {
   "cell_type": "code",
   "execution_count": 228,
   "metadata": {},
   "outputs": [
    {
     "data": {
      "text/plain": [
       "5833"
      ]
     },
     "execution_count": 228,
     "metadata": {},
     "output_type": "execute_result"
    }
   ],
   "source": [
    "len(data)"
   ]
  },
  {
   "cell_type": "code",
   "execution_count": 229,
   "metadata": {},
   "outputs": [
    {
     "ename": "KeyError",
     "evalue": "-1.0",
     "output_type": "error",
     "traceback": [
      "\u001b[0;31m---------------------------------------------------------------------------\u001b[0m",
      "\u001b[0;31mKeyError\u001b[0m                                  Traceback (most recent call last)",
      "\u001b[0;32m~/.local/lib/python3.7/site-packages/pandas-0.24.2-py3.7-macosx-10.9-x86_64.egg/pandas/core/indexes/base.py\u001b[0m in \u001b[0;36mget_loc\u001b[0;34m(self, key, method, tolerance)\u001b[0m\n\u001b[1;32m   2656\u001b[0m             \u001b[0;32mtry\u001b[0m\u001b[0;34m:\u001b[0m\u001b[0;34m\u001b[0m\u001b[0;34m\u001b[0m\u001b[0m\n\u001b[0;32m-> 2657\u001b[0;31m                 \u001b[0;32mreturn\u001b[0m \u001b[0mself\u001b[0m\u001b[0;34m.\u001b[0m\u001b[0m_engine\u001b[0m\u001b[0;34m.\u001b[0m\u001b[0mget_loc\u001b[0m\u001b[0;34m(\u001b[0m\u001b[0mkey\u001b[0m\u001b[0;34m)\u001b[0m\u001b[0;34m\u001b[0m\u001b[0;34m\u001b[0m\u001b[0m\n\u001b[0m\u001b[1;32m   2658\u001b[0m             \u001b[0;32mexcept\u001b[0m \u001b[0mKeyError\u001b[0m\u001b[0;34m:\u001b[0m\u001b[0;34m\u001b[0m\u001b[0;34m\u001b[0m\u001b[0m\n",
      "\u001b[0;32mpandas/_libs/index.pyx\u001b[0m in \u001b[0;36mpandas._libs.index.IndexEngine.get_loc\u001b[0;34m()\u001b[0m\n",
      "\u001b[0;32mpandas/_libs/index.pyx\u001b[0m in \u001b[0;36mpandas._libs.index.IndexEngine.get_loc\u001b[0;34m()\u001b[0m\n",
      "\u001b[0;32mpandas/_libs/hashtable_class_helper.pxi\u001b[0m in \u001b[0;36mpandas._libs.hashtable.Float64HashTable.get_item\u001b[0;34m()\u001b[0m\n",
      "\u001b[0;32mpandas/_libs/hashtable_class_helper.pxi\u001b[0m in \u001b[0;36mpandas._libs.hashtable.Float64HashTable.get_item\u001b[0;34m()\u001b[0m\n",
      "\u001b[0;31mKeyError\u001b[0m: -1.0",
      "\nDuring handling of the above exception, another exception occurred:\n",
      "\u001b[0;31mKeyError\u001b[0m                                  Traceback (most recent call last)",
      "\u001b[0;32m<ipython-input-229-9ed29e502956>\u001b[0m in \u001b[0;36m<module>\u001b[0;34m\u001b[0m\n\u001b[1;32m      1\u001b[0m \u001b[0mf\u001b[0m \u001b[0;34m=\u001b[0m \u001b[0mdata\u001b[0m\u001b[0;34m.\u001b[0m\u001b[0mretention\u001b[0m\u001b[0;34m.\u001b[0m\u001b[0mcreate_filter\u001b[0m\u001b[0;34m(\u001b[0m\u001b[0mindex_col\u001b[0m\u001b[0;34m=\u001b[0m\u001b[0;34m'user_session'\u001b[0m\u001b[0;34m)\u001b[0m\u001b[0;34m\u001b[0m\u001b[0;34m\u001b[0m\u001b[0m\n\u001b[0;32m----> 2\u001b[0;31m \u001b[0mdata\u001b[0m\u001b[0;34m.\u001b[0m\u001b[0mretention\u001b[0m\u001b[0;34m.\u001b[0m\u001b[0mget_step_matrix_difference\u001b[0m\u001b[0;34m(\u001b[0m\u001b[0mf\u001b[0m\u001b[0;34m,\u001b[0m \u001b[0mindex_col\u001b[0m\u001b[0;34m=\u001b[0m\u001b[0;34m'user_session'\u001b[0m\u001b[0;34m)\u001b[0m\u001b[0;34m;\u001b[0m\u001b[0;34m\u001b[0m\u001b[0;34m\u001b[0m\u001b[0m\n\u001b[0m",
      "\u001b[0;32m~/retentioneering-draft/retentioneering/core/utils.py\u001b[0m in \u001b[0;36mget_step_matrix_difference\u001b[0;34m(self, groups, plot_type, max_steps, **kwargs)\u001b[0m\n\u001b[1;32m    411\u001b[0m         \u001b[0mdesc_new\u001b[0m \u001b[0;34m=\u001b[0m \u001b[0mself\u001b[0m\u001b[0;34m.\u001b[0m\u001b[0m_obj\u001b[0m\u001b[0;34m[\u001b[0m\u001b[0mgroups\u001b[0m\u001b[0;34m]\u001b[0m\u001b[0;34m.\u001b[0m\u001b[0mcopy\u001b[0m\u001b[0;34m(\u001b[0m\u001b[0;34m)\u001b[0m\u001b[0;34m.\u001b[0m\u001b[0mtrajectory\u001b[0m\u001b[0;34m.\u001b[0m\u001b[0mget_step_matrix\u001b[0m\u001b[0;34m(\u001b[0m\u001b[0mplot_type\u001b[0m\u001b[0;34m=\u001b[0m\u001b[0;32mFalse\u001b[0m\u001b[0;34m,\u001b[0m \u001b[0mmax_steps\u001b[0m\u001b[0;34m=\u001b[0m\u001b[0mmax_steps\u001b[0m\u001b[0;34m,\u001b[0m \u001b[0;34m**\u001b[0m\u001b[0mkwargs\u001b[0m\u001b[0;34m)\u001b[0m\u001b[0;34m\u001b[0m\u001b[0;34m\u001b[0m\u001b[0m\n\u001b[1;32m    412\u001b[0m         \u001b[0mdesc_old\u001b[0m\u001b[0;34m,\u001b[0m \u001b[0mdesc_new\u001b[0m \u001b[0;34m=\u001b[0m \u001b[0mself\u001b[0m\u001b[0;34m.\u001b[0m\u001b[0m_create_diff_index\u001b[0m\u001b[0;34m(\u001b[0m\u001b[0mdesc_old\u001b[0m\u001b[0;34m,\u001b[0m \u001b[0mdesc_new\u001b[0m\u001b[0;34m)\u001b[0m\u001b[0;34m\u001b[0m\u001b[0;34m\u001b[0m\u001b[0m\n\u001b[0;32m--> 413\u001b[0;31m         \u001b[0mdesc_old\u001b[0m\u001b[0;34m,\u001b[0m \u001b[0mdesc_new\u001b[0m \u001b[0;34m=\u001b[0m \u001b[0mself\u001b[0m\u001b[0;34m.\u001b[0m\u001b[0m_diff_step_allign\u001b[0m\u001b[0;34m(\u001b[0m\u001b[0mdesc_old\u001b[0m\u001b[0;34m,\u001b[0m \u001b[0mdesc_new\u001b[0m\u001b[0;34m)\u001b[0m\u001b[0;34m\u001b[0m\u001b[0;34m\u001b[0m\u001b[0m\n\u001b[0m\u001b[1;32m    414\u001b[0m         \u001b[0mdiff\u001b[0m \u001b[0;34m=\u001b[0m \u001b[0mdesc_new\u001b[0m \u001b[0;34m-\u001b[0m \u001b[0mdesc_old\u001b[0m\u001b[0;34m\u001b[0m\u001b[0;34m\u001b[0m\u001b[0m\n\u001b[1;32m    415\u001b[0m         \u001b[0mdiff\u001b[0m \u001b[0;34m=\u001b[0m \u001b[0mdiff\u001b[0m\u001b[0;34m.\u001b[0m\u001b[0msort_index\u001b[0m\u001b[0;34m(\u001b[0m\u001b[0maxis\u001b[0m\u001b[0;34m=\u001b[0m\u001b[0;36m1\u001b[0m\u001b[0;34m)\u001b[0m\u001b[0;34m\u001b[0m\u001b[0;34m\u001b[0m\u001b[0m\n",
      "\u001b[0;32m~/retentioneering-draft/retentioneering/core/utils.py\u001b[0m in \u001b[0;36m_diff_step_allign\u001b[0;34m(desc_old, desc_new)\u001b[0m\n\u001b[1;32m    198\u001b[0m         \u001b[0;32mif\u001b[0m \u001b[0mmax_old\u001b[0m \u001b[0;34m<\u001b[0m \u001b[0mmax_new\u001b[0m\u001b[0;34m:\u001b[0m\u001b[0;34m\u001b[0m\u001b[0;34m\u001b[0m\u001b[0m\n\u001b[1;32m    199\u001b[0m             \u001b[0;32mfor\u001b[0m \u001b[0mi\u001b[0m \u001b[0;32min\u001b[0m \u001b[0mrange\u001b[0m\u001b[0;34m(\u001b[0m\u001b[0mmax_old\u001b[0m\u001b[0;34m,\u001b[0m \u001b[0mmax_new\u001b[0m \u001b[0;34m+\u001b[0m \u001b[0;36m1\u001b[0m\u001b[0;34m)\u001b[0m\u001b[0;34m:\u001b[0m\u001b[0;34m\u001b[0m\u001b[0;34m\u001b[0m\u001b[0m\n\u001b[0;32m--> 200\u001b[0;31m                 \u001b[0mdesc_old\u001b[0m\u001b[0;34m[\u001b[0m\u001b[0mi\u001b[0m\u001b[0;34m]\u001b[0m \u001b[0;34m=\u001b[0m \u001b[0mdesc_old\u001b[0m\u001b[0;34m[\u001b[0m\u001b[0mi\u001b[0m \u001b[0;34m-\u001b[0m \u001b[0;36m1\u001b[0m\u001b[0;34m]\u001b[0m\u001b[0;34m\u001b[0m\u001b[0;34m\u001b[0m\u001b[0m\n\u001b[0m\u001b[1;32m    201\u001b[0m         \u001b[0;32melif\u001b[0m \u001b[0mmax_old\u001b[0m \u001b[0;34m>\u001b[0m \u001b[0mmax_new\u001b[0m\u001b[0;34m:\u001b[0m\u001b[0;34m\u001b[0m\u001b[0;34m\u001b[0m\u001b[0m\n\u001b[1;32m    202\u001b[0m             \u001b[0;32mfor\u001b[0m \u001b[0mi\u001b[0m \u001b[0;32min\u001b[0m \u001b[0mrange\u001b[0m\u001b[0;34m(\u001b[0m\u001b[0mmax_new\u001b[0m\u001b[0;34m,\u001b[0m \u001b[0mmax_old\u001b[0m \u001b[0;34m+\u001b[0m \u001b[0;36m1\u001b[0m\u001b[0;34m)\u001b[0m\u001b[0;34m:\u001b[0m\u001b[0;34m\u001b[0m\u001b[0;34m\u001b[0m\u001b[0m\n",
      "\u001b[0;32m~/.local/lib/python3.7/site-packages/pandas-0.24.2-py3.7-macosx-10.9-x86_64.egg/pandas/core/frame.py\u001b[0m in \u001b[0;36m__getitem__\u001b[0;34m(self, key)\u001b[0m\n\u001b[1;32m   2925\u001b[0m             \u001b[0;32mif\u001b[0m \u001b[0mself\u001b[0m\u001b[0;34m.\u001b[0m\u001b[0mcolumns\u001b[0m\u001b[0;34m.\u001b[0m\u001b[0mnlevels\u001b[0m \u001b[0;34m>\u001b[0m \u001b[0;36m1\u001b[0m\u001b[0;34m:\u001b[0m\u001b[0;34m\u001b[0m\u001b[0;34m\u001b[0m\u001b[0m\n\u001b[1;32m   2926\u001b[0m                 \u001b[0;32mreturn\u001b[0m \u001b[0mself\u001b[0m\u001b[0;34m.\u001b[0m\u001b[0m_getitem_multilevel\u001b[0m\u001b[0;34m(\u001b[0m\u001b[0mkey\u001b[0m\u001b[0;34m)\u001b[0m\u001b[0;34m\u001b[0m\u001b[0;34m\u001b[0m\u001b[0m\n\u001b[0;32m-> 2927\u001b[0;31m             \u001b[0mindexer\u001b[0m \u001b[0;34m=\u001b[0m \u001b[0mself\u001b[0m\u001b[0;34m.\u001b[0m\u001b[0mcolumns\u001b[0m\u001b[0;34m.\u001b[0m\u001b[0mget_loc\u001b[0m\u001b[0;34m(\u001b[0m\u001b[0mkey\u001b[0m\u001b[0;34m)\u001b[0m\u001b[0;34m\u001b[0m\u001b[0;34m\u001b[0m\u001b[0m\n\u001b[0m\u001b[1;32m   2928\u001b[0m             \u001b[0;32mif\u001b[0m \u001b[0mis_integer\u001b[0m\u001b[0;34m(\u001b[0m\u001b[0mindexer\u001b[0m\u001b[0;34m)\u001b[0m\u001b[0;34m:\u001b[0m\u001b[0;34m\u001b[0m\u001b[0;34m\u001b[0m\u001b[0m\n\u001b[1;32m   2929\u001b[0m                 \u001b[0mindexer\u001b[0m \u001b[0;34m=\u001b[0m \u001b[0;34m[\u001b[0m\u001b[0mindexer\u001b[0m\u001b[0;34m]\u001b[0m\u001b[0;34m\u001b[0m\u001b[0;34m\u001b[0m\u001b[0m\n",
      "\u001b[0;32m~/.local/lib/python3.7/site-packages/pandas-0.24.2-py3.7-macosx-10.9-x86_64.egg/pandas/core/indexes/numeric.py\u001b[0m in \u001b[0;36mget_loc\u001b[0;34m(self, key, method, tolerance)\u001b[0m\n\u001b[1;32m    434\u001b[0m             \u001b[0;32mpass\u001b[0m\u001b[0;34m\u001b[0m\u001b[0;34m\u001b[0m\u001b[0m\n\u001b[1;32m    435\u001b[0m         return super(Float64Index, self).get_loc(key, method=method,\n\u001b[0;32m--> 436\u001b[0;31m                                                  tolerance=tolerance)\n\u001b[0m\u001b[1;32m    437\u001b[0m \u001b[0;34m\u001b[0m\u001b[0m\n\u001b[1;32m    438\u001b[0m     \u001b[0;34m@\u001b[0m\u001b[0mcache_readonly\u001b[0m\u001b[0;34m\u001b[0m\u001b[0;34m\u001b[0m\u001b[0m\n",
      "\u001b[0;32m~/.local/lib/python3.7/site-packages/pandas-0.24.2-py3.7-macosx-10.9-x86_64.egg/pandas/core/indexes/base.py\u001b[0m in \u001b[0;36mget_loc\u001b[0;34m(self, key, method, tolerance)\u001b[0m\n\u001b[1;32m   2657\u001b[0m                 \u001b[0;32mreturn\u001b[0m \u001b[0mself\u001b[0m\u001b[0;34m.\u001b[0m\u001b[0m_engine\u001b[0m\u001b[0;34m.\u001b[0m\u001b[0mget_loc\u001b[0m\u001b[0;34m(\u001b[0m\u001b[0mkey\u001b[0m\u001b[0;34m)\u001b[0m\u001b[0;34m\u001b[0m\u001b[0;34m\u001b[0m\u001b[0m\n\u001b[1;32m   2658\u001b[0m             \u001b[0;32mexcept\u001b[0m \u001b[0mKeyError\u001b[0m\u001b[0;34m:\u001b[0m\u001b[0;34m\u001b[0m\u001b[0;34m\u001b[0m\u001b[0m\n\u001b[0;32m-> 2659\u001b[0;31m                 \u001b[0;32mreturn\u001b[0m \u001b[0mself\u001b[0m\u001b[0;34m.\u001b[0m\u001b[0m_engine\u001b[0m\u001b[0;34m.\u001b[0m\u001b[0mget_loc\u001b[0m\u001b[0;34m(\u001b[0m\u001b[0mself\u001b[0m\u001b[0;34m.\u001b[0m\u001b[0m_maybe_cast_indexer\u001b[0m\u001b[0;34m(\u001b[0m\u001b[0mkey\u001b[0m\u001b[0;34m)\u001b[0m\u001b[0;34m)\u001b[0m\u001b[0;34m\u001b[0m\u001b[0;34m\u001b[0m\u001b[0m\n\u001b[0m\u001b[1;32m   2660\u001b[0m         \u001b[0mindexer\u001b[0m \u001b[0;34m=\u001b[0m \u001b[0mself\u001b[0m\u001b[0;34m.\u001b[0m\u001b[0mget_indexer\u001b[0m\u001b[0;34m(\u001b[0m\u001b[0;34m[\u001b[0m\u001b[0mkey\u001b[0m\u001b[0;34m]\u001b[0m\u001b[0;34m,\u001b[0m \u001b[0mmethod\u001b[0m\u001b[0;34m=\u001b[0m\u001b[0mmethod\u001b[0m\u001b[0;34m,\u001b[0m \u001b[0mtolerance\u001b[0m\u001b[0;34m=\u001b[0m\u001b[0mtolerance\u001b[0m\u001b[0;34m)\u001b[0m\u001b[0;34m\u001b[0m\u001b[0;34m\u001b[0m\u001b[0m\n\u001b[1;32m   2661\u001b[0m         \u001b[0;32mif\u001b[0m \u001b[0mindexer\u001b[0m\u001b[0;34m.\u001b[0m\u001b[0mndim\u001b[0m \u001b[0;34m>\u001b[0m \u001b[0;36m1\u001b[0m \u001b[0;32mor\u001b[0m \u001b[0mindexer\u001b[0m\u001b[0;34m.\u001b[0m\u001b[0msize\u001b[0m \u001b[0;34m>\u001b[0m \u001b[0;36m1\u001b[0m\u001b[0;34m:\u001b[0m\u001b[0;34m\u001b[0m\u001b[0;34m\u001b[0m\u001b[0m\n",
      "\u001b[0;32mpandas/_libs/index.pyx\u001b[0m in \u001b[0;36mpandas._libs.index.IndexEngine.get_loc\u001b[0;34m()\u001b[0m\n",
      "\u001b[0;32mpandas/_libs/index.pyx\u001b[0m in \u001b[0;36mpandas._libs.index.IndexEngine.get_loc\u001b[0;34m()\u001b[0m\n",
      "\u001b[0;32mpandas/_libs/hashtable_class_helper.pxi\u001b[0m in \u001b[0;36mpandas._libs.hashtable.Float64HashTable.get_item\u001b[0;34m()\u001b[0m\n",
      "\u001b[0;32mpandas/_libs/hashtable_class_helper.pxi\u001b[0m in \u001b[0;36mpandas._libs.hashtable.Float64HashTable.get_item\u001b[0;34m()\u001b[0m\n",
      "\u001b[0;31mKeyError\u001b[0m: -1.0"
     ]
    }
   ],
   "source": [
    "f = data.retention.create_filter(index_col='user_session')\n",
    "data.retention.get_step_matrix_difference(f, index_col='user_session');"
   ]
  },
  {
   "cell_type": "markdown",
   "metadata": {},
   "source": [
    "From previous plot we can see that in sessions with removed app, users significantly slows down on onboarding (onb group) and on catalogue (prov group).\n",
    "\n",
    "This is our first hypothesis about app problems."
   ]
  },
  {
   "cell_type": "markdown",
   "metadata": {},
   "source": [
    "## Clustering"
   ]
  },
  {
   "cell_type": "code",
   "execution_count": 216,
   "metadata": {},
   "outputs": [
    {
     "ename": "ValueError",
     "evalue": "Found array with 1 sample(s) (shape=(1, 4)) while a minimum of 2 is required.",
     "output_type": "error",
     "traceback": [
      "\u001b[0;31m---------------------------------------------------------------------------\u001b[0m",
      "\u001b[0;31mValueError\u001b[0m                                Traceback (most recent call last)",
      "\u001b[0;32m<ipython-input-216-a0967c5527b8>\u001b[0m in \u001b[0;36m<module>\u001b[0;34m\u001b[0m\n\u001b[0;32m----> 1\u001b[0;31m \u001b[0mdata\u001b[0m\u001b[0;34m.\u001b[0m\u001b[0mretention\u001b[0m\u001b[0;34m.\u001b[0m\u001b[0mlearn_tsne\u001b[0m\u001b[0;34m(\u001b[0m\u001b[0mindex_col\u001b[0m\u001b[0;34m=\u001b[0m\u001b[0;34m'user_session'\u001b[0m\u001b[0;34m,\u001b[0m \u001b[0mplot_type\u001b[0m\u001b[0;34m=\u001b[0m\u001b[0;34m'clusters'\u001b[0m\u001b[0;34m)\u001b[0m\u001b[0;34m;\u001b[0m\u001b[0;34m\u001b[0m\u001b[0;34m\u001b[0m\u001b[0m\n\u001b[0m",
      "\u001b[0;32m~/retentioneering-draft/retentioneering/core/utils.py\u001b[0m in \u001b[0;36mlearn_tsne\u001b[0;34m(self, targets, plot_type, refit, regression_targets, **kwargs)\u001b[0m\n\u001b[1;32m    607\u001b[0m             \u001b[0mself\u001b[0m\u001b[0;34m.\u001b[0m\u001b[0m_tsne_targets\u001b[0m \u001b[0;34m=\u001b[0m \u001b[0mtargets\u001b[0m\u001b[0;34m\u001b[0m\u001b[0;34m\u001b[0m\u001b[0m\n\u001b[1;32m    608\u001b[0m         \u001b[0;32mif\u001b[0m \u001b[0;32mnot\u001b[0m \u001b[0;34m(\u001b[0m\u001b[0mhasattr\u001b[0m\u001b[0;34m(\u001b[0m\u001b[0mself\u001b[0m\u001b[0;34m,\u001b[0m \u001b[0;34m'_tsne'\u001b[0m\u001b[0;34m)\u001b[0m \u001b[0;32mand\u001b[0m \u001b[0;32mnot\u001b[0m \u001b[0mrefit\u001b[0m\u001b[0;34m)\u001b[0m\u001b[0;34m:\u001b[0m\u001b[0;34m\u001b[0m\u001b[0;34m\u001b[0m\u001b[0m\n\u001b[0;32m--> 609\u001b[0;31m             \u001b[0mself\u001b[0m\u001b[0;34m.\u001b[0m\u001b[0m_tsne\u001b[0m \u001b[0;34m=\u001b[0m \u001b[0mfeature_extraction\u001b[0m\u001b[0;34m.\u001b[0m\u001b[0mlearn_tsne\u001b[0m\u001b[0;34m(\u001b[0m\u001b[0mfeatures\u001b[0m\u001b[0;34m,\u001b[0m \u001b[0;34m**\u001b[0m\u001b[0mkwargs\u001b[0m\u001b[0;34m)\u001b[0m\u001b[0;34m\u001b[0m\u001b[0;34m\u001b[0m\u001b[0m\n\u001b[0m\u001b[1;32m    610\u001b[0m         \u001b[0;32mif\u001b[0m \u001b[0mplot_type\u001b[0m \u001b[0;34m==\u001b[0m \u001b[0;34m'clusters'\u001b[0m\u001b[0;34m:\u001b[0m\u001b[0;34m\u001b[0m\u001b[0;34m\u001b[0m\u001b[0m\n\u001b[1;32m    611\u001b[0m             \u001b[0mtargets\u001b[0m \u001b[0;34m=\u001b[0m \u001b[0mself\u001b[0m\u001b[0;34m.\u001b[0m\u001b[0mget_clusters\u001b[0m\u001b[0;34m(\u001b[0m\u001b[0mplot_type\u001b[0m\u001b[0;34m=\u001b[0m\u001b[0;32mNone\u001b[0m\u001b[0;34m,\u001b[0m \u001b[0;34m**\u001b[0m\u001b[0mkwargs\u001b[0m\u001b[0;34m)\u001b[0m\u001b[0;34m\u001b[0m\u001b[0;34m\u001b[0m\u001b[0m\n",
      "\u001b[0;32m~/retentioneering-draft/retentioneering/core/feature_extraction.py\u001b[0m in \u001b[0;36mlearn_tsne\u001b[0;34m(data, **kwargs)\u001b[0m\n\u001b[1;32m    114\u001b[0m     \u001b[0m_tsne_filter\u001b[0m \u001b[0;34m=\u001b[0m \u001b[0mTSNE\u001b[0m\u001b[0;34m.\u001b[0m\u001b[0mget_params\u001b[0m\u001b[0;34m(\u001b[0m\u001b[0mTSNE\u001b[0m\u001b[0;34m)\u001b[0m\u001b[0;34m\u001b[0m\u001b[0;34m\u001b[0m\u001b[0m\n\u001b[1;32m    115\u001b[0m     \u001b[0mkwargs\u001b[0m \u001b[0;34m=\u001b[0m \u001b[0;34m{\u001b[0m\u001b[0mi\u001b[0m\u001b[0;34m:\u001b[0m \u001b[0mj\u001b[0m \u001b[0;32mfor\u001b[0m \u001b[0mi\u001b[0m\u001b[0;34m,\u001b[0m \u001b[0mj\u001b[0m \u001b[0;32min\u001b[0m \u001b[0mkwargs\u001b[0m\u001b[0;34m.\u001b[0m\u001b[0mitems\u001b[0m\u001b[0;34m(\u001b[0m\u001b[0;34m)\u001b[0m \u001b[0;32mif\u001b[0m \u001b[0mi\u001b[0m \u001b[0;32min\u001b[0m \u001b[0m_tsne_filter\u001b[0m\u001b[0;34m}\u001b[0m\u001b[0;34m\u001b[0m\u001b[0;34m\u001b[0m\u001b[0m\n\u001b[0;32m--> 116\u001b[0;31m     \u001b[0mres\u001b[0m \u001b[0;34m=\u001b[0m \u001b[0mTSNE\u001b[0m\u001b[0;34m(\u001b[0m\u001b[0mrandom_state\u001b[0m\u001b[0;34m=\u001b[0m\u001b[0;36m0\u001b[0m\u001b[0;34m,\u001b[0m \u001b[0;34m**\u001b[0m\u001b[0mkwargs\u001b[0m\u001b[0;34m)\u001b[0m\u001b[0;34m.\u001b[0m\u001b[0mfit_transform\u001b[0m\u001b[0;34m(\u001b[0m\u001b[0mdata\u001b[0m\u001b[0;34m.\u001b[0m\u001b[0mvalues\u001b[0m\u001b[0;34m)\u001b[0m\u001b[0;34m\u001b[0m\u001b[0;34m\u001b[0m\u001b[0m\n\u001b[0m\u001b[1;32m    117\u001b[0m     \u001b[0;32mreturn\u001b[0m \u001b[0mpd\u001b[0m\u001b[0;34m.\u001b[0m\u001b[0mDataFrame\u001b[0m\u001b[0;34m(\u001b[0m\u001b[0mres\u001b[0m\u001b[0;34m,\u001b[0m \u001b[0mindex\u001b[0m\u001b[0;34m=\u001b[0m\u001b[0mdata\u001b[0m\u001b[0;34m.\u001b[0m\u001b[0mindex\u001b[0m\u001b[0;34m.\u001b[0m\u001b[0mvalues\u001b[0m\u001b[0;34m)\u001b[0m\u001b[0;34m\u001b[0m\u001b[0;34m\u001b[0m\u001b[0m\n",
      "\u001b[0;32m/anaconda3/lib/python3.7/site-packages/sklearn/manifold/t_sne.py\u001b[0m in \u001b[0;36mfit_transform\u001b[0;34m(self, X, y)\u001b[0m\n\u001b[1;32m    892\u001b[0m             \u001b[0mEmbedding\u001b[0m \u001b[0mof\u001b[0m \u001b[0mthe\u001b[0m \u001b[0mtraining\u001b[0m \u001b[0mdata\u001b[0m \u001b[0;32min\u001b[0m \u001b[0mlow\u001b[0m\u001b[0;34m-\u001b[0m\u001b[0mdimensional\u001b[0m \u001b[0mspace\u001b[0m\u001b[0;34m.\u001b[0m\u001b[0;34m\u001b[0m\u001b[0;34m\u001b[0m\u001b[0m\n\u001b[1;32m    893\u001b[0m         \"\"\"\n\u001b[0;32m--> 894\u001b[0;31m         \u001b[0membedding\u001b[0m \u001b[0;34m=\u001b[0m \u001b[0mself\u001b[0m\u001b[0;34m.\u001b[0m\u001b[0m_fit\u001b[0m\u001b[0;34m(\u001b[0m\u001b[0mX\u001b[0m\u001b[0;34m)\u001b[0m\u001b[0;34m\u001b[0m\u001b[0;34m\u001b[0m\u001b[0m\n\u001b[0m\u001b[1;32m    895\u001b[0m         \u001b[0mself\u001b[0m\u001b[0;34m.\u001b[0m\u001b[0membedding_\u001b[0m \u001b[0;34m=\u001b[0m \u001b[0membedding\u001b[0m\u001b[0;34m\u001b[0m\u001b[0;34m\u001b[0m\u001b[0m\n\u001b[1;32m    896\u001b[0m         \u001b[0;32mreturn\u001b[0m \u001b[0mself\u001b[0m\u001b[0;34m.\u001b[0m\u001b[0membedding_\u001b[0m\u001b[0;34m\u001b[0m\u001b[0;34m\u001b[0m\u001b[0m\n",
      "\u001b[0;32m/anaconda3/lib/python3.7/site-packages/sklearn/manifold/t_sne.py\u001b[0m in \u001b[0;36m_fit\u001b[0;34m(self, X, skip_num_points)\u001b[0m\n\u001b[1;32m    691\u001b[0m         \u001b[0;32mif\u001b[0m \u001b[0mself\u001b[0m\u001b[0;34m.\u001b[0m\u001b[0mmethod\u001b[0m \u001b[0;34m==\u001b[0m \u001b[0;34m'barnes_hut'\u001b[0m\u001b[0;34m:\u001b[0m\u001b[0;34m\u001b[0m\u001b[0;34m\u001b[0m\u001b[0m\n\u001b[1;32m    692\u001b[0m             X = check_array(X, ensure_min_samples=2,\n\u001b[0;32m--> 693\u001b[0;31m                             dtype=[np.float32, np.float64])\n\u001b[0m\u001b[1;32m    694\u001b[0m         \u001b[0;32melse\u001b[0m\u001b[0;34m:\u001b[0m\u001b[0;34m\u001b[0m\u001b[0;34m\u001b[0m\u001b[0m\n\u001b[1;32m    695\u001b[0m             X = check_array(X, accept_sparse=['csr', 'csc', 'coo'],\n",
      "\u001b[0;32m/anaconda3/lib/python3.7/site-packages/sklearn/utils/validation.py\u001b[0m in \u001b[0;36mcheck_array\u001b[0;34m(array, accept_sparse, accept_large_sparse, dtype, order, copy, force_all_finite, ensure_2d, allow_nd, ensure_min_samples, ensure_min_features, warn_on_dtype, estimator)\u001b[0m\n\u001b[1;32m    580\u001b[0m                              \u001b[0;34m\" minimum of %d is required%s.\"\u001b[0m\u001b[0;34m\u001b[0m\u001b[0;34m\u001b[0m\u001b[0m\n\u001b[1;32m    581\u001b[0m                              % (n_samples, shape_repr, ensure_min_samples,\n\u001b[0;32m--> 582\u001b[0;31m                                 context))\n\u001b[0m\u001b[1;32m    583\u001b[0m \u001b[0;34m\u001b[0m\u001b[0m\n\u001b[1;32m    584\u001b[0m     \u001b[0;32mif\u001b[0m \u001b[0mensure_min_features\u001b[0m \u001b[0;34m>\u001b[0m \u001b[0;36m0\u001b[0m \u001b[0;32mand\u001b[0m \u001b[0marray\u001b[0m\u001b[0;34m.\u001b[0m\u001b[0mndim\u001b[0m \u001b[0;34m==\u001b[0m \u001b[0;36m2\u001b[0m\u001b[0;34m:\u001b[0m\u001b[0;34m\u001b[0m\u001b[0;34m\u001b[0m\u001b[0m\n",
      "\u001b[0;31mValueError\u001b[0m: Found array with 1 sample(s) (shape=(1, 4)) while a minimum of 2 is required."
     ]
    }
   ],
   "source": [
    "data.retention.learn_tsne(index_col='user_session', plot_type='clusters');"
   ]
  },
  {
   "cell_type": "markdown",
   "metadata": {},
   "source": [
    "We can choose cluster from center and visualize it"
   ]
  },
  {
   "cell_type": "markdown",
   "metadata": {},
   "source": [
    "We can see problems with catalogue for zero cluster: a lot of users move from app after first prov event."
   ]
  },
  {
   "cell_type": "code",
   "execution_count": 217,
   "metadata": {},
   "outputs": [
    {
     "ename": "ValueError",
     "evalue": "n_samples=1 should be >= n_clusters=8",
     "output_type": "error",
     "traceback": [
      "\u001b[0;31m---------------------------------------------------------------------------\u001b[0m",
      "\u001b[0;31mValueError\u001b[0m                                Traceback (most recent call last)",
      "\u001b[0;32m<ipython-input-217-151970815fce>\u001b[0m in \u001b[0;36m<module>\u001b[0;34m\u001b[0m\n\u001b[0;32m----> 1\u001b[0;31m \u001b[0mdata\u001b[0m\u001b[0;34m.\u001b[0m\u001b[0mretention\u001b[0m\u001b[0;34m.\u001b[0m\u001b[0mget_clusters\u001b[0m\u001b[0;34m(\u001b[0m\u001b[0mindex_col\u001b[0m\u001b[0;34m=\u001b[0m\u001b[0;34m'user_session'\u001b[0m\u001b[0;34m)\u001b[0m\u001b[0;34m;\u001b[0m\u001b[0;34m\u001b[0m\u001b[0;34m\u001b[0m\u001b[0m\n\u001b[0m",
      "\u001b[0;32m~/retentioneering-draft/retentioneering/core/utils.py\u001b[0m in \u001b[0;36mget_clusters\u001b[0;34m(self, plot_type, refit_cluster, **kwargs)\u001b[0m\n\u001b[1;32m    341\u001b[0m             \u001b[0mfeatures\u001b[0m \u001b[0;34m=\u001b[0m \u001b[0mself\u001b[0m\u001b[0;34m.\u001b[0m\u001b[0mextract_features\u001b[0m\u001b[0;34m(\u001b[0m\u001b[0;34m**\u001b[0m\u001b[0mkwargs\u001b[0m\u001b[0;34m)\u001b[0m\u001b[0;34m\u001b[0m\u001b[0;34m\u001b[0m\u001b[0m\n\u001b[1;32m    342\u001b[0m         \u001b[0;32mif\u001b[0m \u001b[0;32mnot\u001b[0m \u001b[0mhasattr\u001b[0m\u001b[0;34m(\u001b[0m\u001b[0mself\u001b[0m\u001b[0;34m,\u001b[0m \u001b[0;34m'clusters'\u001b[0m\u001b[0;34m)\u001b[0m \u001b[0;32mor\u001b[0m \u001b[0mrefit_cluster\u001b[0m\u001b[0;34m:\u001b[0m\u001b[0;34m\u001b[0m\u001b[0;34m\u001b[0m\u001b[0m\n\u001b[0;32m--> 343\u001b[0;31m             \u001b[0mself\u001b[0m\u001b[0;34m.\u001b[0m\u001b[0mclusters\u001b[0m \u001b[0;34m=\u001b[0m \u001b[0mclustering\u001b[0m\u001b[0;34m.\u001b[0m\u001b[0msimple_cluster\u001b[0m\u001b[0;34m(\u001b[0m\u001b[0mfeatures\u001b[0m\u001b[0;34m,\u001b[0m \u001b[0;34m**\u001b[0m\u001b[0mkwargs\u001b[0m\u001b[0;34m)\u001b[0m\u001b[0;34m\u001b[0m\u001b[0;34m\u001b[0m\u001b[0m\n\u001b[0m\u001b[1;32m    344\u001b[0m             \u001b[0mself\u001b[0m\u001b[0;34m.\u001b[0m\u001b[0m_create_cluster_mapping\u001b[0m\u001b[0;34m(\u001b[0m\u001b[0mfeatures\u001b[0m\u001b[0;34m.\u001b[0m\u001b[0mindex\u001b[0m\u001b[0;34m.\u001b[0m\u001b[0mvalues\u001b[0m\u001b[0;34m)\u001b[0m\u001b[0;34m\u001b[0m\u001b[0;34m\u001b[0m\u001b[0m\n\u001b[1;32m    345\u001b[0m \u001b[0;34m\u001b[0m\u001b[0m\n",
      "\u001b[0;32m~/retentioneering-draft/retentioneering/core/clustering.py\u001b[0m in \u001b[0;36msimple_cluster\u001b[0;34m(data, **kwargs)\u001b[0m\n\u001b[1;32m     25\u001b[0m     \"\"\"\n\u001b[1;32m     26\u001b[0m     \u001b[0mkm\u001b[0m \u001b[0;34m=\u001b[0m \u001b[0mKMeans\u001b[0m\u001b[0;34m(\u001b[0m\u001b[0mrandom_state\u001b[0m\u001b[0;34m=\u001b[0m\u001b[0;36m0\u001b[0m\u001b[0;34m,\u001b[0m \u001b[0;34m**\u001b[0m\u001b[0;34m{\u001b[0m\u001b[0mi\u001b[0m\u001b[0;34m:\u001b[0m \u001b[0mj\u001b[0m \u001b[0;32mfor\u001b[0m \u001b[0mi\u001b[0m\u001b[0;34m,\u001b[0m \u001b[0mj\u001b[0m \u001b[0;32min\u001b[0m \u001b[0mkwargs\u001b[0m\u001b[0;34m.\u001b[0m\u001b[0mitems\u001b[0m\u001b[0;34m(\u001b[0m\u001b[0;34m)\u001b[0m \u001b[0;32mif\u001b[0m \u001b[0mi\u001b[0m \u001b[0;32min\u001b[0m \u001b[0m__KMEANS_FILTER__\u001b[0m\u001b[0;34m}\u001b[0m\u001b[0;34m)\u001b[0m\u001b[0;34m\u001b[0m\u001b[0;34m\u001b[0m\u001b[0m\n\u001b[0;32m---> 27\u001b[0;31m     \u001b[0;32mreturn\u001b[0m \u001b[0mkm\u001b[0m\u001b[0;34m.\u001b[0m\u001b[0mfit_predict\u001b[0m\u001b[0;34m(\u001b[0m\u001b[0mdata\u001b[0m\u001b[0;34m.\u001b[0m\u001b[0mvalues\u001b[0m\u001b[0;34m)\u001b[0m\u001b[0;34m\u001b[0m\u001b[0;34m\u001b[0m\u001b[0m\n\u001b[0m",
      "\u001b[0;32m/anaconda3/lib/python3.7/site-packages/sklearn/cluster/k_means_.py\u001b[0m in \u001b[0;36mfit_predict\u001b[0;34m(self, X, y, sample_weight)\u001b[0m\n\u001b[1;32m    995\u001b[0m             \u001b[0mIndex\u001b[0m \u001b[0mof\u001b[0m \u001b[0mthe\u001b[0m \u001b[0mcluster\u001b[0m \u001b[0meach\u001b[0m \u001b[0msample\u001b[0m \u001b[0mbelongs\u001b[0m \u001b[0mto\u001b[0m\u001b[0;34m.\u001b[0m\u001b[0;34m\u001b[0m\u001b[0;34m\u001b[0m\u001b[0m\n\u001b[1;32m    996\u001b[0m         \"\"\"\n\u001b[0;32m--> 997\u001b[0;31m         \u001b[0;32mreturn\u001b[0m \u001b[0mself\u001b[0m\u001b[0;34m.\u001b[0m\u001b[0mfit\u001b[0m\u001b[0;34m(\u001b[0m\u001b[0mX\u001b[0m\u001b[0;34m,\u001b[0m \u001b[0msample_weight\u001b[0m\u001b[0;34m=\u001b[0m\u001b[0msample_weight\u001b[0m\u001b[0;34m)\u001b[0m\u001b[0;34m.\u001b[0m\u001b[0mlabels_\u001b[0m\u001b[0;34m\u001b[0m\u001b[0;34m\u001b[0m\u001b[0m\n\u001b[0m\u001b[1;32m    998\u001b[0m \u001b[0;34m\u001b[0m\u001b[0m\n\u001b[1;32m    999\u001b[0m     \u001b[0;32mdef\u001b[0m \u001b[0mfit_transform\u001b[0m\u001b[0;34m(\u001b[0m\u001b[0mself\u001b[0m\u001b[0;34m,\u001b[0m \u001b[0mX\u001b[0m\u001b[0;34m,\u001b[0m \u001b[0my\u001b[0m\u001b[0;34m=\u001b[0m\u001b[0;32mNone\u001b[0m\u001b[0;34m,\u001b[0m \u001b[0msample_weight\u001b[0m\u001b[0;34m=\u001b[0m\u001b[0;32mNone\u001b[0m\u001b[0;34m)\u001b[0m\u001b[0;34m:\u001b[0m\u001b[0;34m\u001b[0m\u001b[0;34m\u001b[0m\u001b[0m\n",
      "\u001b[0;32m/anaconda3/lib/python3.7/site-packages/sklearn/cluster/k_means_.py\u001b[0m in \u001b[0;36mfit\u001b[0;34m(self, X, y, sample_weight)\u001b[0m\n\u001b[1;32m    969\u001b[0m                 \u001b[0mtol\u001b[0m\u001b[0;34m=\u001b[0m\u001b[0mself\u001b[0m\u001b[0;34m.\u001b[0m\u001b[0mtol\u001b[0m\u001b[0;34m,\u001b[0m \u001b[0mrandom_state\u001b[0m\u001b[0;34m=\u001b[0m\u001b[0mrandom_state\u001b[0m\u001b[0;34m,\u001b[0m \u001b[0mcopy_x\u001b[0m\u001b[0;34m=\u001b[0m\u001b[0mself\u001b[0m\u001b[0;34m.\u001b[0m\u001b[0mcopy_x\u001b[0m\u001b[0;34m,\u001b[0m\u001b[0;34m\u001b[0m\u001b[0;34m\u001b[0m\u001b[0m\n\u001b[1;32m    970\u001b[0m                 \u001b[0mn_jobs\u001b[0m\u001b[0;34m=\u001b[0m\u001b[0mself\u001b[0m\u001b[0;34m.\u001b[0m\u001b[0mn_jobs\u001b[0m\u001b[0;34m,\u001b[0m \u001b[0malgorithm\u001b[0m\u001b[0;34m=\u001b[0m\u001b[0mself\u001b[0m\u001b[0;34m.\u001b[0m\u001b[0malgorithm\u001b[0m\u001b[0;34m,\u001b[0m\u001b[0;34m\u001b[0m\u001b[0;34m\u001b[0m\u001b[0m\n\u001b[0;32m--> 971\u001b[0;31m                 return_n_iter=True)\n\u001b[0m\u001b[1;32m    972\u001b[0m         \u001b[0;32mreturn\u001b[0m \u001b[0mself\u001b[0m\u001b[0;34m\u001b[0m\u001b[0;34m\u001b[0m\u001b[0m\n\u001b[1;32m    973\u001b[0m \u001b[0;34m\u001b[0m\u001b[0m\n",
      "\u001b[0;32m/anaconda3/lib/python3.7/site-packages/sklearn/cluster/k_means_.py\u001b[0m in \u001b[0;36mk_means\u001b[0;34m(X, n_clusters, sample_weight, init, precompute_distances, n_init, max_iter, verbose, tol, random_state, copy_x, n_jobs, algorithm, return_n_iter)\u001b[0m\n\u001b[1;32m    313\u001b[0m     \u001b[0;32mif\u001b[0m \u001b[0m_num_samples\u001b[0m\u001b[0;34m(\u001b[0m\u001b[0mX\u001b[0m\u001b[0;34m)\u001b[0m \u001b[0;34m<\u001b[0m \u001b[0mn_clusters\u001b[0m\u001b[0;34m:\u001b[0m\u001b[0;34m\u001b[0m\u001b[0;34m\u001b[0m\u001b[0m\n\u001b[1;32m    314\u001b[0m         raise ValueError(\"n_samples=%d should be >= n_clusters=%d\" % (\n\u001b[0;32m--> 315\u001b[0;31m             _num_samples(X), n_clusters))\n\u001b[0m\u001b[1;32m    316\u001b[0m \u001b[0;34m\u001b[0m\u001b[0m\n\u001b[1;32m    317\u001b[0m     \u001b[0mtol\u001b[0m \u001b[0;34m=\u001b[0m \u001b[0m_tolerance\u001b[0m\u001b[0;34m(\u001b[0m\u001b[0mX\u001b[0m\u001b[0;34m,\u001b[0m \u001b[0mtol\u001b[0m\u001b[0;34m)\u001b[0m\u001b[0;34m\u001b[0m\u001b[0;34m\u001b[0m\u001b[0m\n",
      "\u001b[0;31mValueError\u001b[0m: n_samples=1 should be >= n_clusters=8"
     ]
    }
   ],
   "source": [
    "data.retention.get_clusters(index_col='user_session');"
   ]
  },
  {
   "cell_type": "code",
   "execution_count": 203,
   "metadata": {},
   "outputs": [
    {
     "data": {
      "text/html": [
       "\n",
       "        <iframe\n",
       "            width=\"900\"\n",
       "            height=\"900\"\n",
       "            src=\"mobile-app/index_2019-06-28 20_48_58_924289.html\"\n",
       "            frameborder=\"0\"\n",
       "            allowfullscreen\n",
       "        ></iframe>\n",
       "        "
      ],
      "text/plain": [
       "<IPython.lib.display.IFrame at 0x1c39503eb8>"
      ]
     },
     "metadata": {},
     "output_type": "display_data"
    }
   ],
   "source": [
    "(data\n",
    " .retention\n",
    " .filter_cluster(1, index_col='user_session')\n",
    " .retention\n",
    " .plot_graph(index_col='user_session', thresh=0.06, width=800, height=800))"
   ]
  },
  {
   "cell_type": "markdown",
   "metadata": {},
   "source": [
    "Selection process involves multiple steps were users edit their selected products and select different kind of options (node \"param\"). Users can do this without authorization. But after they add selected and customized products to cart they are asked to authorize.\n",
    "\n",
    "In this cluster we can clearly see the problem with autorization: after authorization we need to return to catalogue (node \"prov\") and start selection and customization process all over again (node \"prparam\").\n",
    "\n",
    "We can see from graph that there is no way to return after authorization to previous step in catalogue (no edge from \"auth\" to \"prparam\").\n",
    "\n",
    "This is a problem in app: authorization brokes user trajectory, so user should return in the beginning."
   ]
  },
  {
   "cell_type": "markdown",
   "metadata": {},
   "source": [
    "We can see problems with detailed events via `dump_event_col` column."
   ]
  },
  {
   "cell_type": "code",
   "execution_count": 197,
   "metadata": {},
   "outputs": [
    {
     "data": {
      "text/html": [
       "\n",
       "        <iframe\n",
       "            width=\"900\"\n",
       "            height=\"900\"\n",
       "            src=\"mobile-app/index_2019-06-28 20_41_37_261505.html\"\n",
       "            frameborder=\"0\"\n",
       "            allowfullscreen\n",
       "        ></iframe>\n",
       "        "
      ],
      "text/plain": [
       "<IPython.lib.display.IFrame at 0x1c3fd83160>"
      ]
     },
     "metadata": {},
     "output_type": "display_data"
    }
   ],
   "source": [
    "(data\n",
    " .retention\n",
    " .filter_cluster(1, index_col='user_session')\n",
    " .retention\n",
    " .plot_graph(index_col='user_session', cols=['dump_event_col', 'dump_event_col_shift'], thresh=0.08, width=800, height=800))"
   ]
  },
  {
   "cell_type": "markdown",
   "metadata": {},
   "source": [
    "This graph can support our hypothesis about bad catalogue organization with `prov_click_category_other` event. We can see that users often remove app after this event, wich redirects users to web-page. It's clear example of not optimal app organization where web-page link cannibiling users from mobile app."
   ]
  },
  {
   "cell_type": "markdown",
   "metadata": {},
   "source": [
    "# Classifier"
   ]
  },
  {
   "cell_type": "code",
   "execution_count": 6,
   "metadata": {},
   "outputs": [
    {
     "data": {
      "text/html": [
       "<div>\n",
       "<style scoped>\n",
       "    .dataframe tbody tr th:only-of-type {\n",
       "        vertical-align: middle;\n",
       "    }\n",
       "\n",
       "    .dataframe tbody tr th {\n",
       "        vertical-align: top;\n",
       "    }\n",
       "\n",
       "    .dataframe thead th {\n",
       "        text-align: right;\n",
       "    }\n",
       "</style>\n",
       "<table border=\"1\" class=\"dataframe\">\n",
       "  <thead>\n",
       "    <tr style=\"text-align: right;\">\n",
       "      <th></th>\n",
       "      <th>event_timestamp</th>\n",
       "      <th>event_name</th>\n",
       "      <th>user_pseudo_id</th>\n",
       "      <th>dump_event_col</th>\n",
       "      <th>session</th>\n",
       "      <th>user_session</th>\n",
       "    </tr>\n",
       "  </thead>\n",
       "  <tbody>\n",
       "    <tr>\n",
       "      <th>0</th>\n",
       "      <td>2019-02-27 10:22:06.003000</td>\n",
       "      <td>app_remove</td>\n",
       "      <td>7be7da240172078b5d97b6b9942091f7</td>\n",
       "      <td>app_remove</td>\n",
       "      <td>0.0</td>\n",
       "      <td>7be7da240172078b5d97b6b9942091f70</td>\n",
       "    </tr>\n",
       "    <tr>\n",
       "      <th>1</th>\n",
       "      <td>2019-02-27 20:13:58.523000</td>\n",
       "      <td>onb</td>\n",
       "      <td>f3eb88ec2ef1e294a9014a1787b5678c</td>\n",
       "      <td>onb_auto_swipe</td>\n",
       "      <td>0.0</td>\n",
       "      <td>f3eb88ec2ef1e294a9014a1787b5678c0</td>\n",
       "    </tr>\n",
       "    <tr>\n",
       "      <th>2</th>\n",
       "      <td>2019-02-27 20:14:01.970003</td>\n",
       "      <td>prov</td>\n",
       "      <td>f3eb88ec2ef1e294a9014a1787b5678c</td>\n",
       "      <td>prov_scroll_catalog</td>\n",
       "      <td>0.0</td>\n",
       "      <td>f3eb88ec2ef1e294a9014a1787b5678c0</td>\n",
       "    </tr>\n",
       "    <tr>\n",
       "      <th>3</th>\n",
       "      <td>2019-02-27 20:14:03.857005</td>\n",
       "      <td>prov</td>\n",
       "      <td>f3eb88ec2ef1e294a9014a1787b5678c</td>\n",
       "      <td>prov_scroll_catalog</td>\n",
       "      <td>0.0</td>\n",
       "      <td>f3eb88ec2ef1e294a9014a1787b5678c0</td>\n",
       "    </tr>\n",
       "    <tr>\n",
       "      <th>4</th>\n",
       "      <td>2019-02-27 20:14:06.096006</td>\n",
       "      <td>prov</td>\n",
       "      <td>f3eb88ec2ef1e294a9014a1787b5678c</td>\n",
       "      <td>prov_scroll_catalog</td>\n",
       "      <td>0.0</td>\n",
       "      <td>f3eb88ec2ef1e294a9014a1787b5678c0</td>\n",
       "    </tr>\n",
       "  </tbody>\n",
       "</table>\n",
       "</div>"
      ],
      "text/plain": [
       "             event_timestamp  event_name                    user_pseudo_id  \\\n",
       "0 2019-02-27 10:22:06.003000  app_remove  7be7da240172078b5d97b6b9942091f7   \n",
       "1 2019-02-27 20:13:58.523000         onb  f3eb88ec2ef1e294a9014a1787b5678c   \n",
       "2 2019-02-27 20:14:01.970003        prov  f3eb88ec2ef1e294a9014a1787b5678c   \n",
       "3 2019-02-27 20:14:03.857005        prov  f3eb88ec2ef1e294a9014a1787b5678c   \n",
       "4 2019-02-27 20:14:06.096006        prov  f3eb88ec2ef1e294a9014a1787b5678c   \n",
       "\n",
       "        dump_event_col  session                       user_session  \n",
       "0           app_remove      0.0  7be7da240172078b5d97b6b9942091f70  \n",
       "1       onb_auto_swipe      0.0  f3eb88ec2ef1e294a9014a1787b5678c0  \n",
       "2  prov_scroll_catalog      0.0  f3eb88ec2ef1e294a9014a1787b5678c0  \n",
       "3  prov_scroll_catalog      0.0  f3eb88ec2ef1e294a9014a1787b5678c0  \n",
       "4  prov_scroll_catalog      0.0  f3eb88ec2ef1e294a9014a1787b5678c0  "
      ]
     },
     "execution_count": 6,
     "metadata": {},
     "output_type": "execute_result"
    }
   ],
   "source": [
    "data.head()"
   ]
  },
  {
   "cell_type": "code",
   "execution_count": 5,
   "metadata": {},
   "outputs": [],
   "source": []
  },
  {
   "cell_type": "code",
   "execution_count": 6,
   "metadata": {},
   "outputs": [
    {
     "data": {
      "text/plain": [
       "382740"
      ]
     },
     "execution_count": 6,
     "metadata": {},
     "output_type": "execute_result"
    }
   ],
   "source": [
    "len(data_test)"
   ]
  },
  {
   "cell_type": "code",
   "execution_count": 7,
   "metadata": {},
   "outputs": [
    {
     "data": {
      "text/plain": [
       "1646505"
      ]
     },
     "execution_count": 7,
     "metadata": {},
     "output_type": "execute_result"
    }
   ],
   "source": [
    "len(data_train)"
   ]
  },
  {
   "cell_type": "code",
   "execution_count": 51,
   "metadata": {},
   "outputs": [
    {
     "data": {
      "text/html": [
       "[0, 1, 2, 3, 4, 5, 6, 7, 8, 9, 10]"
      ],
      "text/plain": [
       "[0, 1, 2, 3, 4, 5, 6, 7, 8, 9, 10]"
      ]
     },
     "execution_count": 51,
     "metadata": {},
     "output_type": "execute_result"
    }
   ],
   "source": [
    "list(range(len(val)))"
   ]
  },
  {
   "cell_type": "code",
   "execution_count": 54,
   "metadata": {},
   "outputs": [],
   "source": []
  },
  {
   "cell_type": "code",
   "execution_count": 129,
   "metadata": {},
   "outputs": [],
   "source": [
    "thresh = [0, 1, 2, 3, 4, 5, 6, 7, 8, 9, 10, 12, 14, 16, 18, 20, 24, 28, 32, 40, 50, 60, 70, 80, 100]\n",
    "\n",
    "val = [0.685662137497465,\n",
    "       0.6713444997736533,\n",
    "       0.6663466154584734,\n",
    "       0.639990150209308,\n",
    "       0.6432418568863811,\n",
    "       0.6362916006339144,\n",
    "       0.6415760869565217,\n",
    "       0.6432386842845094,\n",
    "       0.6469034341062518,\n",
    "      0.6454268292682926,\n",
    "      0.6461151305441963,\n",
    "      0.6455611390284757,\n",
    "      0.6532286835533357,\n",
    "      0.6631459826480574,\n",
    "      0.6585850556438791,\n",
    "      0.6619187264348555,\n",
    "      0.669750231267345,\n",
    "       0.6763506625891947,\n",
    "      0.6893474623535973,\n",
    "      0.6979166666666666,\n",
    "      0.7057034220532319,\n",
    "      0.7029360967184801,\n",
    "      0.7140077821011673,\n",
    "       0.7176220806794055,\n",
    "      0.72693266832917]\n",
    "\n",
    "user_count_x = [0, 10, 20, 30, 50, 100, 200]\n",
    "user_count = [4931, 3179, 2387, 1873, 1315, 802, 426]\n",
    "\n",
    "\n",
    "user_avg_pred_x = [0, 2, 4, 6, 8]\n",
    "user_avg_pred = [0.5615493814642061,\n",
    "                0.5909745559289487, \n",
    "                0.5801487560913055, \n",
    "                0.5728260869565217,\n",
    "                0.5776342823598474]"
   ]
  },
  {
   "cell_type": "code",
   "execution_count": 130,
   "metadata": {},
   "outputs": [
    {
     "data": {
      "image/png": "[encoded data removed]",
      "text/plain": [
       "<Figure size 432x288 with 1 Axes>"
      ]
     },
     "metadata": {
      "needs_background": "light"
     },
     "output_type": "display_data"
    }
   ],
   "source": [
    "import matplotlib.pyplot as plt\n",
    "plt.plot(thresh, val)\n",
    "plt.show()"
   ]
  },
  {
   "cell_type": "code",
   "execution_count": 131,
   "metadata": {},
   "outputs": [
    {
     "data": {
      "image/png": "[encoded data removed]",
      "text/plain": [
       "<Figure size 432x288 with 1 Axes>"
      ]
     },
     "metadata": {
      "needs_background": "light"
     },
     "output_type": "display_data"
    }
   ],
   "source": [
    "plt.plot(user_count_x, user_count)\n",
    "plt.show()"
   ]
  },
  {
   "cell_type": "code",
   "execution_count": 117,
   "metadata": {},
   "outputs": [],
   "source": [
    "import numpy as np"
   ]
  },
  {
   "cell_type": "code",
   "execution_count": 158,
   "metadata": {},
   "outputs": [
    {
     "data": {
      "text/plain": [
       "0.7215346534653465"
      ]
     },
     "execution_count": 158,
     "metadata": {},
     "output_type": "execute_result"
    }
   ],
   "source": [
    "np.mean(target)"
   ]
  },
  {
   "cell_type": "code",
   "execution_count": 157,
   "metadata": {},
   "outputs": [
    {
     "data": {
      "text/plain": [
       "808"
      ]
     },
     "execution_count": 157,
     "metadata": {},
     "output_type": "execute_result"
    }
   ],
   "source": [
    "len(target)"
   ]
  },
  {
   "cell_type": "code",
   "execution_count": 137,
   "metadata": {},
   "outputs": [],
   "source": [
    "res = data_test.groupby(data_test.user_pseudo_id).agg({\n",
    "    'event_timestamp':'count'\n",
    "})"
   ]
  },
  {
   "cell_type": "code",
   "execution_count": 144,
   "metadata": {},
   "outputs": [],
   "source": [
    "good_users_list=res[res['event_timestamp']>100].index.values.tolist()"
   ]
  },
  {
   "cell_type": "code",
   "execution_count": 147,
   "metadata": {},
   "outputs": [
    {
     "data": {
      "text/plain": [
       "808"
      ]
     },
     "execution_count": 147,
     "metadata": {},
     "output_type": "execute_result"
    }
   ],
   "source": [
    "len(good_users_list)"
   ]
  },
  {
   "cell_type": "code",
   "execution_count": 149,
   "metadata": {},
   "outputs": [
    {
     "ename": "ValueError",
     "evalue": "The truth value of a Series is ambiguous. Use a.empty, a.bool(), a.item(), a.any() or a.all().",
     "output_type": "error",
     "traceback": [
      "\u001b[0;31m---------------------------------------------------------------------------\u001b[0m",
      "\u001b[0;31mValueError\u001b[0m                                Traceback (most recent call last)",
      "\u001b[0;32m<ipython-input-149-4e8d4e0af2e9>\u001b[0m in \u001b[0;36m<module>\u001b[0;34m\u001b[0m\n\u001b[0;32m----> 1\u001b[0;31m \u001b[0mdata_test\u001b[0m\u001b[0;34m[\u001b[0m\u001b[0;34m'user_pseudo_id'\u001b[0m\u001b[0;34m]\u001b[0m \u001b[0;32min\u001b[0m \u001b[0mgood_users_list\u001b[0m\u001b[0;34m\u001b[0m\u001b[0;34m\u001b[0m\u001b[0m\n\u001b[0m",
      "\u001b[0;32m~/.local/lib/python3.7/site-packages/pandas-0.24.2-py3.7-macosx-10.9-x86_64.egg/pandas/core/generic.py\u001b[0m in \u001b[0;36m__nonzero__\u001b[0;34m(self)\u001b[0m\n\u001b[1;32m   1476\u001b[0m         raise ValueError(\"The truth value of a {0} is ambiguous. \"\n\u001b[1;32m   1477\u001b[0m                          \u001b[0;34m\"Use a.empty, a.bool(), a.item(), a.any() or a.all().\"\u001b[0m\u001b[0;34m\u001b[0m\u001b[0;34m\u001b[0m\u001b[0m\n\u001b[0;32m-> 1478\u001b[0;31m                          .format(self.__class__.__name__))\n\u001b[0m\u001b[1;32m   1479\u001b[0m \u001b[0;34m\u001b[0m\u001b[0m\n\u001b[1;32m   1480\u001b[0m     \u001b[0m__bool__\u001b[0m \u001b[0;34m=\u001b[0m \u001b[0m__nonzero__\u001b[0m\u001b[0;34m\u001b[0m\u001b[0;34m\u001b[0m\u001b[0m\n",
      "\u001b[0;31mValueError\u001b[0m: The truth value of a Series is ambiguous. Use a.empty, a.bool(), a.item(), a.any() or a.all()."
     ]
    }
   ],
   "source": [
    "data_test['user_pseudo_id'] in good_users_list"
   ]
  },
  {
   "cell_type": "code",
   "execution_count": 150,
   "metadata": {},
   "outputs": [
    {
     "data": {
      "text/plain": [
       "False"
      ]
     },
     "execution_count": 150,
     "metadata": {},
     "output_type": "execute_result"
    }
   ],
   "source": [
    "'d702b2295eecdd236df48993a37bda18' in good_users_list"
   ]
  },
  {
   "cell_type": "code",
   "execution_count": 153,
   "metadata": {},
   "outputs": [],
   "source": [
    "data_test_clean = data_test[data_test.apply(lambda x: x['user_pseudo_id'] in good_users_list, axis=1)]"
   ]
  },
  {
   "cell_type": "code",
   "execution_count": 154,
   "metadata": {},
   "outputs": [
    {
     "data": {
      "text/plain": [
       "808"
      ]
     },
     "execution_count": 154,
     "metadata": {},
     "output_type": "execute_result"
    }
   ],
   "source": [
    "data_test_clean.user_pseudo_id.nunique()"
   ]
  },
  {
   "cell_type": "code",
   "execution_count": 148,
   "metadata": {},
   "outputs": [
    {
     "ename": "ValueError",
     "evalue": "The truth value of a Series is ambiguous. Use a.empty, a.bool(), a.item(), a.any() or a.all().",
     "output_type": "error",
     "traceback": [
      "\u001b[0;31m---------------------------------------------------------------------------\u001b[0m",
      "\u001b[0;31mValueError\u001b[0m                                Traceback (most recent call last)",
      "\u001b[0;32m<ipython-input-148-06c928b101ab>\u001b[0m in \u001b[0;36m<module>\u001b[0;34m\u001b[0m\n\u001b[0;32m----> 1\u001b[0;31m \u001b[0mdata_test\u001b[0m\u001b[0;34m[\u001b[0m\u001b[0mdata_test\u001b[0m\u001b[0;34m[\u001b[0m\u001b[0;34m'user_pseudo_id'\u001b[0m\u001b[0;34m]\u001b[0m \u001b[0;32min\u001b[0m \u001b[0mgood_users_list\u001b[0m\u001b[0;34m]\u001b[0m\u001b[0;34m\u001b[0m\u001b[0;34m\u001b[0m\u001b[0m\n\u001b[0m",
      "\u001b[0;32m~/.local/lib/python3.7/site-packages/pandas-0.24.2-py3.7-macosx-10.9-x86_64.egg/pandas/core/generic.py\u001b[0m in \u001b[0;36m__nonzero__\u001b[0;34m(self)\u001b[0m\n\u001b[1;32m   1476\u001b[0m         raise ValueError(\"The truth value of a {0} is ambiguous. \"\n\u001b[1;32m   1477\u001b[0m                          \u001b[0;34m\"Use a.empty, a.bool(), a.item(), a.any() or a.all().\"\u001b[0m\u001b[0;34m\u001b[0m\u001b[0;34m\u001b[0m\u001b[0m\n\u001b[0;32m-> 1478\u001b[0;31m                          .format(self.__class__.__name__))\n\u001b[0m\u001b[1;32m   1479\u001b[0m \u001b[0;34m\u001b[0m\u001b[0m\n\u001b[1;32m   1480\u001b[0m     \u001b[0m__bool__\u001b[0m \u001b[0;34m=\u001b[0m \u001b[0m__nonzero__\u001b[0m\u001b[0;34m\u001b[0m\u001b[0;34m\u001b[0m\u001b[0m\n",
      "\u001b[0;31mValueError\u001b[0m: The truth value of a Series is ambiguous. Use a.empty, a.bool(), a.item(), a.any() or a.all()."
     ]
    }
   ],
   "source": [
    "data_test[data_test['user_pseudo_id'] in good_users_list]"
   ]
  },
  {
   "cell_type": "code",
   "execution_count": null,
   "metadata": {},
   "outputs": [],
   "source": [
    "data_test.groupby('')"
   ]
  },
  {
   "cell_type": "code",
   "execution_count": 152,
   "metadata": {},
   "outputs": [
    {
     "data": {
      "text/plain": [
       "5764"
      ]
     },
     "execution_count": 152,
     "metadata": {},
     "output_type": "execute_result"
    }
   ],
   "source": [
    "data_test.user_pseudo_id.nunique()"
   ]
  },
  {
   "cell_type": "code",
   "execution_count": 136,
   "metadata": {},
   "outputs": [
    {
     "data": {
      "text/html": [
       "<div>\n",
       "<style scoped>\n",
       "    .dataframe tbody tr th:only-of-type {\n",
       "        vertical-align: middle;\n",
       "    }\n",
       "\n",
       "    .dataframe tbody tr th {\n",
       "        vertical-align: top;\n",
       "    }\n",
       "\n",
       "    .dataframe thead th {\n",
       "        text-align: right;\n",
       "    }\n",
       "</style>\n",
       "<table border=\"1\" class=\"dataframe\">\n",
       "  <thead>\n",
       "    <tr style=\"text-align: right;\">\n",
       "      <th></th>\n",
       "      <th>event_timestamp</th>\n",
       "      <th>event_name</th>\n",
       "      <th>user_pseudo_id</th>\n",
       "      <th>dump_event_col</th>\n",
       "      <th>session</th>\n",
       "      <th>user_session</th>\n",
       "    </tr>\n",
       "  </thead>\n",
       "  <tbody>\n",
       "    <tr>\n",
       "      <th>61</th>\n",
       "      <td>2019-02-28 11:24:32.292000</td>\n",
       "      <td>ecom</td>\n",
       "      <td>d702b2295eecdd236df48993a37bda18</td>\n",
       "      <td>ecom_begin_checkout</td>\n",
       "      <td>0.0</td>\n",
       "      <td>d702b2295eecdd236df48993a37bda180</td>\n",
       "    </tr>\n",
       "    <tr>\n",
       "      <th>62</th>\n",
       "      <td>2019-02-28 11:28:59.694019</td>\n",
       "      <td>ecom</td>\n",
       "      <td>d702b2295eecdd236df48993a37bda18</td>\n",
       "      <td>ecom_begin_checkout</td>\n",
       "      <td>0.0</td>\n",
       "      <td>d702b2295eecdd236df48993a37bda180</td>\n",
       "    </tr>\n",
       "    <tr>\n",
       "      <th>70</th>\n",
       "      <td>2019-02-28 14:58:47.628003</td>\n",
       "      <td>prov</td>\n",
       "      <td>bc9fdf4523803849c763b1f086aa7041</td>\n",
       "      <td>prov_scroll_catalog</td>\n",
       "      <td>0.0</td>\n",
       "      <td>bc9fdf4523803849c763b1f086aa70410</td>\n",
       "    </tr>\n",
       "    <tr>\n",
       "      <th>71</th>\n",
       "      <td>2019-02-28 14:58:48.305004</td>\n",
       "      <td>prov</td>\n",
       "      <td>bc9fdf4523803849c763b1f086aa7041</td>\n",
       "      <td>prov_click_category</td>\n",
       "      <td>0.0</td>\n",
       "      <td>bc9fdf4523803849c763b1f086aa70410</td>\n",
       "    </tr>\n",
       "    <tr>\n",
       "      <th>72</th>\n",
       "      <td>2019-02-28 14:58:54.191007</td>\n",
       "      <td>prov</td>\n",
       "      <td>bc9fdf4523803849c763b1f086aa7041</td>\n",
       "      <td>prov_click_category_other</td>\n",
       "      <td>0.0</td>\n",
       "      <td>bc9fdf4523803849c763b1f086aa70410</td>\n",
       "    </tr>\n",
       "  </tbody>\n",
       "</table>\n",
       "</div>"
      ],
      "text/plain": [
       "              event_timestamp event_name                    user_pseudo_id  \\\n",
       "61 2019-02-28 11:24:32.292000       ecom  d702b2295eecdd236df48993a37bda18   \n",
       "62 2019-02-28 11:28:59.694019       ecom  d702b2295eecdd236df48993a37bda18   \n",
       "70 2019-02-28 14:58:47.628003       prov  bc9fdf4523803849c763b1f086aa7041   \n",
       "71 2019-02-28 14:58:48.305004       prov  bc9fdf4523803849c763b1f086aa7041   \n",
       "72 2019-02-28 14:58:54.191007       prov  bc9fdf4523803849c763b1f086aa7041   \n",
       "\n",
       "               dump_event_col  session                       user_session  \n",
       "61        ecom_begin_checkout      0.0  d702b2295eecdd236df48993a37bda180  \n",
       "62        ecom_begin_checkout      0.0  d702b2295eecdd236df48993a37bda180  \n",
       "70        prov_scroll_catalog      0.0  bc9fdf4523803849c763b1f086aa70410  \n",
       "71        prov_click_category      0.0  bc9fdf4523803849c763b1f086aa70410  \n",
       "72  prov_click_category_other      0.0  bc9fdf4523803849c763b1f086aa70410  "
      ]
     },
     "execution_count": 136,
     "metadata": {},
     "output_type": "execute_result"
    }
   ],
   "source": [
    "data_test.head()"
   ]
  },
  {
   "cell_type": "code",
   "execution_count": 155,
   "metadata": {},
   "outputs": [],
   "source": [
    "#train test split\n",
    "data_train , data_test = data.retention.index_based_split(index_col='user_pseudo_id')\n",
    "\n",
    "\n",
    "res = data_test.groupby(data_test.user_pseudo_id).agg({\n",
    "    'event_timestamp':'count'\n",
    "})\n",
    "\n",
    "good_users_list=res[res['event_timestamp']>100].index.values.tolist()\n",
    "\n",
    "data_test_clean = data_test[data_test.apply(lambda x: x['user_pseudo_id'] in good_users_list, axis=1)]"
   ]
  },
  {
   "cell_type": "raw",
   "metadata": {},
   "source": []
  },
  {
   "cell_type": "code",
   "execution_count": 160,
   "metadata": {},
   "outputs": [
    {
     "data": {
      "text/plain": [
       "array([ True,  True,  True,  True,  True,  True, False,  True, False,\n",
       "        True,  True,  True,  True, False,  True,  True,  True,  True,\n",
       "        True,  True,  True, False, False,  True,  True,  True, False,\n",
       "        True,  True,  True,  True,  True,  True,  True,  True,  True,\n",
       "        True,  True,  True,  True,  True,  True,  True,  True,  True,\n",
       "        True,  True,  True,  True, False,  True,  True,  True, False,\n",
       "        True,  True,  True,  True,  True,  True,  True,  True, False,\n",
       "        True,  True, False, False,  True,  True, False, False,  True,\n",
       "       False, False, False,  True,  True, False, False, False,  True,\n",
       "        True,  True,  True,  True,  True,  True,  True,  True, False,\n",
       "        True, False, False,  True,  True,  True, False, False,  True,\n",
       "        True,  True,  True, False,  True,  True, False,  True,  True,\n",
       "        True,  True, False,  True,  True, False,  True,  True,  True,\n",
       "        True, False, False,  True, False,  True,  True,  True, False,\n",
       "        True,  True,  True,  True,  True,  True,  True,  True,  True,\n",
       "        True,  True, False, False, False,  True,  True, False,  True,\n",
       "        True, False,  True,  True,  True,  True,  True,  True,  True,\n",
       "       False, False,  True,  True, False,  True,  True,  True,  True,\n",
       "        True, False,  True, False,  True,  True, False,  True,  True,\n",
       "        True,  True,  True,  True,  True,  True,  True,  True, False,\n",
       "       False,  True, False, False, False,  True,  True,  True,  True,\n",
       "        True,  True,  True, False, False,  True, False,  True, False,\n",
       "        True,  True,  True,  True,  True,  True, False, False, False,\n",
       "        True,  True,  True,  True,  True, False,  True,  True, False,\n",
       "        True,  True, False, False,  True, False,  True, False,  True,\n",
       "        True,  True,  True,  True,  True, False, False,  True, False,\n",
       "        True, False, False,  True,  True,  True, False, False,  True,\n",
       "        True,  True, False,  True, False,  True,  True,  True,  True,\n",
       "        True, False,  True,  True,  True,  True, False,  True, False,\n",
       "        True, False,  True,  True,  True,  True,  True, False,  True,\n",
       "       False, False,  True, False,  True, False,  True,  True,  True,\n",
       "        True,  True,  True,  True,  True, False,  True,  True, False,\n",
       "        True,  True,  True, False,  True,  True,  True,  True, False,\n",
       "       False,  True,  True, False,  True, False, False, False,  True,\n",
       "        True, False,  True,  True,  True, False,  True,  True,  True,\n",
       "        True,  True,  True,  True, False,  True,  True,  True,  True,\n",
       "       False,  True,  True,  True,  True,  True, False,  True,  True,\n",
       "        True, False,  True,  True,  True,  True, False,  True,  True,\n",
       "       False, False, False,  True,  True, False,  True, False,  True,\n",
       "        True,  True,  True,  True,  True,  True,  True, False,  True,\n",
       "       False,  True, False,  True,  True,  True,  True,  True,  True,\n",
       "        True,  True,  True,  True, False,  True, False, False, False,\n",
       "       False,  True,  True,  True,  True, False,  True,  True,  True,\n",
       "        True,  True,  True, False,  True,  True,  True,  True,  True,\n",
       "        True, False,  True,  True,  True, False,  True, False,  True,\n",
       "       False, False,  True,  True,  True,  True,  True, False,  True,\n",
       "       False,  True,  True,  True, False, False, False,  True,  True,\n",
       "       False,  True,  True,  True, False,  True,  True, False,  True,\n",
       "        True,  True,  True,  True,  True,  True,  True,  True,  True,\n",
       "        True,  True,  True,  True,  True,  True, False,  True,  True,\n",
       "        True,  True,  True,  True, False,  True, False,  True,  True,\n",
       "        True,  True,  True,  True, False, False,  True,  True, False,\n",
       "        True, False,  True, False,  True, False,  True, False,  True,\n",
       "        True,  True, False, False, False,  True,  True,  True,  True,\n",
       "        True,  True,  True,  True,  True,  True,  True, False,  True,\n",
       "        True,  True,  True,  True, False,  True,  True,  True,  True,\n",
       "       False,  True,  True,  True,  True, False, False, False,  True,\n",
       "        True,  True,  True,  True,  True,  True, False, False, False,\n",
       "        True, False, False,  True, False, False, False,  True,  True,\n",
       "       False,  True,  True,  True,  True,  True, False,  True,  True,\n",
       "       False,  True,  True,  True,  True,  True,  True, False, False,\n",
       "        True, False,  True, False,  True,  True, False,  True,  True,\n",
       "        True, False,  True,  True,  True,  True, False,  True,  True,\n",
       "        True, False, False,  True,  True,  True, False,  True,  True,\n",
       "       False,  True,  True, False,  True,  True,  True, False,  True,\n",
       "        True, False, False, False, False,  True,  True,  True, False,\n",
       "        True, False,  True, False,  True, False,  True,  True,  True,\n",
       "        True,  True,  True,  True,  True, False,  True,  True,  True,\n",
       "        True,  True,  True,  True,  True,  True,  True,  True, False,\n",
       "        True,  True,  True,  True,  True,  True,  True,  True,  True,\n",
       "       False,  True, False,  True,  True, False,  True, False,  True,\n",
       "        True,  True, False,  True,  True,  True, False,  True,  True,\n",
       "        True,  True, False,  True,  True,  True,  True,  True, False,\n",
       "        True, False,  True, False, False,  True,  True,  True,  True,\n",
       "        True, False, False,  True,  True, False,  True,  True,  True,\n",
       "        True,  True,  True,  True,  True,  True,  True,  True, False,\n",
       "        True, False, False,  True,  True, False, False,  True,  True,\n",
       "        True,  True,  True,  True,  True, False,  True, False,  True,\n",
       "       False,  True,  True,  True, False,  True, False,  True,  True,\n",
       "        True,  True,  True,  True, False,  True,  True, False, False,\n",
       "        True,  True,  True,  True,  True, False, False,  True,  True,\n",
       "       False, False, False,  True,  True,  True, False,  True,  True,\n",
       "        True, False,  True, False,  True,  True,  True,  True,  True,\n",
       "        True,  True,  True,  True,  True, False,  True,  True,  True,\n",
       "        True,  True,  True,  True,  True,  True,  True,  True,  True,\n",
       "        True,  True,  True,  True,  True,  True,  True, False, False,\n",
       "        True,  True,  True,  True,  True,  True,  True, False,  True,\n",
       "       False,  True, False,  True, False, False,  True, False, False,\n",
       "       False, False,  True,  True,  True,  True,  True,  True,  True,\n",
       "        True,  True,  True,  True, False,  True, False])"
      ]
     },
     "execution_count": 160,
     "metadata": {},
     "output_type": "execute_result"
    }
   ],
   "source": [
    "target"
   ]
  },
  {
   "cell_type": "code",
   "execution_count": 162,
   "metadata": {},
   "outputs": [
    {
     "data": {
      "text/html": [
       "<div>\n",
       "<style scoped>\n",
       "    .dataframe tbody tr th:only-of-type {\n",
       "        vertical-align: middle;\n",
       "    }\n",
       "\n",
       "    .dataframe tbody tr th {\n",
       "        vertical-align: top;\n",
       "    }\n",
       "\n",
       "    .dataframe thead th {\n",
       "        text-align: right;\n",
       "    }\n",
       "</style>\n",
       "<table border=\"1\" class=\"dataframe\">\n",
       "  <thead>\n",
       "    <tr style=\"text-align: right;\">\n",
       "      <th></th>\n",
       "      <th>False</th>\n",
       "      <th>True</th>\n",
       "    </tr>\n",
       "  </thead>\n",
       "  <tbody>\n",
       "    <tr>\n",
       "      <th>00301a5e593a16d1850a3227544ac636</th>\n",
       "      <td>0.347672</td>\n",
       "      <td>0.652328</td>\n",
       "    </tr>\n",
       "    <tr>\n",
       "      <th>0052cd6480ade27af30e138831ac4669</th>\n",
       "      <td>0.308931</td>\n",
       "      <td>0.691069</td>\n",
       "    </tr>\n",
       "    <tr>\n",
       "      <th>00536fd2f1d3be802ad01901a1fcff39</th>\n",
       "      <td>0.319209</td>\n",
       "      <td>0.680791</td>\n",
       "    </tr>\n",
       "    <tr>\n",
       "      <th>006144ba49005a8c8def6428f5285a76</th>\n",
       "      <td>0.369653</td>\n",
       "      <td>0.630347</td>\n",
       "    </tr>\n",
       "    <tr>\n",
       "      <th>0073e7af489a3f3c6217f323c492eacb</th>\n",
       "      <td>0.281398</td>\n",
       "      <td>0.718602</td>\n",
       "    </tr>\n",
       "    <tr>\n",
       "      <th>00e32d7b8e3e9adf796bd93b43586dc9</th>\n",
       "      <td>0.344804</td>\n",
       "      <td>0.655196</td>\n",
       "    </tr>\n",
       "    <tr>\n",
       "      <th>0129fadfd14ad94cb37edaaa12122172</th>\n",
       "      <td>0.342927</td>\n",
       "      <td>0.657073</td>\n",
       "    </tr>\n",
       "    <tr>\n",
       "      <th>017ec7175785aea1b2340e9c5d154386</th>\n",
       "      <td>0.379287</td>\n",
       "      <td>0.620713</td>\n",
       "    </tr>\n",
       "    <tr>\n",
       "      <th>01a11f024fced1fb8a0f283750c4bad9</th>\n",
       "      <td>0.372211</td>\n",
       "      <td>0.627789</td>\n",
       "    </tr>\n",
       "    <tr>\n",
       "      <th>01a1dbd564fc8527b48578cfc31f9573</th>\n",
       "      <td>0.370761</td>\n",
       "      <td>0.629239</td>\n",
       "    </tr>\n",
       "    <tr>\n",
       "      <th>01c60be8286a686f7b781c91705d49b0</th>\n",
       "      <td>0.332522</td>\n",
       "      <td>0.667478</td>\n",
       "    </tr>\n",
       "    <tr>\n",
       "      <th>01feebba0f6c0da37a3de56b8dfb4cb4</th>\n",
       "      <td>0.353867</td>\n",
       "      <td>0.646133</td>\n",
       "    </tr>\n",
       "    <tr>\n",
       "      <th>028051063c9a250a8258a00b42ea53b4</th>\n",
       "      <td>0.325330</td>\n",
       "      <td>0.674670</td>\n",
       "    </tr>\n",
       "    <tr>\n",
       "      <th>02a6637f2fda72a0702581ab24fdf900</th>\n",
       "      <td>0.353738</td>\n",
       "      <td>0.646262</td>\n",
       "    </tr>\n",
       "    <tr>\n",
       "      <th>02c48c94c493a6f9b22bea83a21e1574</th>\n",
       "      <td>0.323923</td>\n",
       "      <td>0.676077</td>\n",
       "    </tr>\n",
       "    <tr>\n",
       "      <th>03b549515576ccf460840f4a6e71575c</th>\n",
       "      <td>0.355358</td>\n",
       "      <td>0.644642</td>\n",
       "    </tr>\n",
       "    <tr>\n",
       "      <th>042ffb748d0417d38ddbea49a2a4b748</th>\n",
       "      <td>0.364564</td>\n",
       "      <td>0.635436</td>\n",
       "    </tr>\n",
       "    <tr>\n",
       "      <th>04b2933f47e44da4d4c249dcb0258dc9</th>\n",
       "      <td>0.349133</td>\n",
       "      <td>0.650867</td>\n",
       "    </tr>\n",
       "    <tr>\n",
       "      <th>04d5ad6ec7619e4e669510ac6ffe0fb4</th>\n",
       "      <td>0.332027</td>\n",
       "      <td>0.667973</td>\n",
       "    </tr>\n",
       "    <tr>\n",
       "      <th>0553095e0398ea780aa1a299e95dbe97</th>\n",
       "      <td>0.377529</td>\n",
       "      <td>0.622471</td>\n",
       "    </tr>\n",
       "    <tr>\n",
       "      <th>05bc03d92db18e9e0e13f57477759ea1</th>\n",
       "      <td>0.330539</td>\n",
       "      <td>0.669461</td>\n",
       "    </tr>\n",
       "    <tr>\n",
       "      <th>05ddd260b090c1ef40c0cbad00e030a3</th>\n",
       "      <td>0.307079</td>\n",
       "      <td>0.692921</td>\n",
       "    </tr>\n",
       "    <tr>\n",
       "      <th>060ea3b8265b7e9737356caba674cb18</th>\n",
       "      <td>0.224357</td>\n",
       "      <td>0.775643</td>\n",
       "    </tr>\n",
       "    <tr>\n",
       "      <th>0698554efc9db657c00a6892e2455970</th>\n",
       "      <td>0.308809</td>\n",
       "      <td>0.691191</td>\n",
       "    </tr>\n",
       "    <tr>\n",
       "      <th>06de0e0c6046dabaf2997b4eb97b06b9</th>\n",
       "      <td>0.373691</td>\n",
       "      <td>0.626309</td>\n",
       "    </tr>\n",
       "    <tr>\n",
       "      <th>071e4a849e8ccac05ad726503cd3a18b</th>\n",
       "      <td>0.369216</td>\n",
       "      <td>0.630784</td>\n",
       "    </tr>\n",
       "    <tr>\n",
       "      <th>071ff0424dd4fe0986f2afb2f7d59396</th>\n",
       "      <td>0.364620</td>\n",
       "      <td>0.635380</td>\n",
       "    </tr>\n",
       "    <tr>\n",
       "      <th>07ad01a4a8307dfc0c9ab593303f2122</th>\n",
       "      <td>0.366248</td>\n",
       "      <td>0.633752</td>\n",
       "    </tr>\n",
       "    <tr>\n",
       "      <th>07e6bccdafc576b9b37f43d40d1739bf</th>\n",
       "      <td>0.347547</td>\n",
       "      <td>0.652453</td>\n",
       "    </tr>\n",
       "    <tr>\n",
       "      <th>082f75108ea3e8af0ec1cfd3025e61ee</th>\n",
       "      <td>0.197271</td>\n",
       "      <td>0.802729</td>\n",
       "    </tr>\n",
       "    <tr>\n",
       "      <th>...</th>\n",
       "      <td>...</td>\n",
       "      <td>...</td>\n",
       "    </tr>\n",
       "    <tr>\n",
       "      <th>f504c4ddd5a7d9762494c671e356c7ab</th>\n",
       "      <td>0.333107</td>\n",
       "      <td>0.666893</td>\n",
       "    </tr>\n",
       "    <tr>\n",
       "      <th>f5870f88273b202c1e60db815b7e751e</th>\n",
       "      <td>0.342646</td>\n",
       "      <td>0.657354</td>\n",
       "    </tr>\n",
       "    <tr>\n",
       "      <th>f5ae27f34d32b704183620a0c23ecec5</th>\n",
       "      <td>0.316253</td>\n",
       "      <td>0.683747</td>\n",
       "    </tr>\n",
       "    <tr>\n",
       "      <th>f612c6dcfd523a8e0284a0a98a340482</th>\n",
       "      <td>0.342701</td>\n",
       "      <td>0.657299</td>\n",
       "    </tr>\n",
       "    <tr>\n",
       "      <th>f699d9abfd4b801d6c64e6acbbe68aea</th>\n",
       "      <td>0.400105</td>\n",
       "      <td>0.599895</td>\n",
       "    </tr>\n",
       "    <tr>\n",
       "      <th>f7ba109070d6f8489a736c7524d620bd</th>\n",
       "      <td>0.374495</td>\n",
       "      <td>0.625505</td>\n",
       "    </tr>\n",
       "    <tr>\n",
       "      <th>f7d229df276301d2ebff3b161fdba650</th>\n",
       "      <td>0.360637</td>\n",
       "      <td>0.639363</td>\n",
       "    </tr>\n",
       "    <tr>\n",
       "      <th>f7fb39f7389cd8a19cc3d2a5c23b10a8</th>\n",
       "      <td>0.382258</td>\n",
       "      <td>0.617742</td>\n",
       "    </tr>\n",
       "    <tr>\n",
       "      <th>f89f89d30ed250d782c89faeb0b76add</th>\n",
       "      <td>0.315088</td>\n",
       "      <td>0.684912</td>\n",
       "    </tr>\n",
       "    <tr>\n",
       "      <th>f8bf6d76fecc23b848b536ece4ff4ba1</th>\n",
       "      <td>0.359894</td>\n",
       "      <td>0.640106</td>\n",
       "    </tr>\n",
       "    <tr>\n",
       "      <th>f966bba4357b8f0769f84f31dab8dea6</th>\n",
       "      <td>0.333834</td>\n",
       "      <td>0.666166</td>\n",
       "    </tr>\n",
       "    <tr>\n",
       "      <th>f98f2f0595ec715f7d3ca85859e0cbf6</th>\n",
       "      <td>0.367036</td>\n",
       "      <td>0.632964</td>\n",
       "    </tr>\n",
       "    <tr>\n",
       "      <th>f98f9a40e63d1239d2805a9bbbc9327a</th>\n",
       "      <td>0.349338</td>\n",
       "      <td>0.650662</td>\n",
       "    </tr>\n",
       "    <tr>\n",
       "      <th>f9b1c6c6504936b35b700173df2dbce4</th>\n",
       "      <td>0.377831</td>\n",
       "      <td>0.622169</td>\n",
       "    </tr>\n",
       "    <tr>\n",
       "      <th>fa1fe4e8a51c5bc37f63db62b6965b9e</th>\n",
       "      <td>0.348847</td>\n",
       "      <td>0.651153</td>\n",
       "    </tr>\n",
       "    <tr>\n",
       "      <th>fa27a7391aa672f849dd7a7bed40a7eb</th>\n",
       "      <td>0.372575</td>\n",
       "      <td>0.627425</td>\n",
       "    </tr>\n",
       "    <tr>\n",
       "      <th>fa303bc59d7a778c2db95e01dec2014f</th>\n",
       "      <td>0.345633</td>\n",
       "      <td>0.654367</td>\n",
       "    </tr>\n",
       "    <tr>\n",
       "      <th>fa986deac14c63af21b711f36070ad49</th>\n",
       "      <td>0.344453</td>\n",
       "      <td>0.655547</td>\n",
       "    </tr>\n",
       "    <tr>\n",
       "      <th>fb520ef7fa8839719a25aff8cc3f90a4</th>\n",
       "      <td>0.339928</td>\n",
       "      <td>0.660072</td>\n",
       "    </tr>\n",
       "    <tr>\n",
       "      <th>fba83b3775995d72327be70896bc98a8</th>\n",
       "      <td>0.321197</td>\n",
       "      <td>0.678803</td>\n",
       "    </tr>\n",
       "    <tr>\n",
       "      <th>fc34667f0e36047db001272eea3fede5</th>\n",
       "      <td>0.261103</td>\n",
       "      <td>0.738897</td>\n",
       "    </tr>\n",
       "    <tr>\n",
       "      <th>fc4f8294b3e0b45d6aa2472baf6f32cf</th>\n",
       "      <td>0.368039</td>\n",
       "      <td>0.631961</td>\n",
       "    </tr>\n",
       "    <tr>\n",
       "      <th>fc6f7a13ec016b08d65997c6c13f1a24</th>\n",
       "      <td>0.357390</td>\n",
       "      <td>0.642610</td>\n",
       "    </tr>\n",
       "    <tr>\n",
       "      <th>fc7d00c16ca0b5451094bf8c23b56c10</th>\n",
       "      <td>0.321674</td>\n",
       "      <td>0.678326</td>\n",
       "    </tr>\n",
       "    <tr>\n",
       "      <th>fd5cda616431520fcda1f8fc15f0a0f5</th>\n",
       "      <td>0.361394</td>\n",
       "      <td>0.638606</td>\n",
       "    </tr>\n",
       "    <tr>\n",
       "      <th>fda05555de3eab34ffb3f7ad0828396b</th>\n",
       "      <td>0.370830</td>\n",
       "      <td>0.629170</td>\n",
       "    </tr>\n",
       "    <tr>\n",
       "      <th>fdecf2082b0f7763d68de5bfa2f48d02</th>\n",
       "      <td>0.326390</td>\n",
       "      <td>0.673610</td>\n",
       "    </tr>\n",
       "    <tr>\n",
       "      <th>fe22cffd7e50217fb3ef84f1a74714f7</th>\n",
       "      <td>0.351674</td>\n",
       "      <td>0.648326</td>\n",
       "    </tr>\n",
       "    <tr>\n",
       "      <th>fe90c175a0678ba293755f57214926ad</th>\n",
       "      <td>0.349411</td>\n",
       "      <td>0.650589</td>\n",
       "    </tr>\n",
       "    <tr>\n",
       "      <th>ff1580efc6805ea1979e0d0048bfb5a5</th>\n",
       "      <td>0.334800</td>\n",
       "      <td>0.665200</td>\n",
       "    </tr>\n",
       "  </tbody>\n",
       "</table>\n",
       "<p>808 rows × 2 columns</p>\n",
       "</div>"
      ],
      "text/plain": [
       "                                     False     True \n",
       "00301a5e593a16d1850a3227544ac636  0.347672  0.652328\n",
       "0052cd6480ade27af30e138831ac4669  0.308931  0.691069\n",
       "00536fd2f1d3be802ad01901a1fcff39  0.319209  0.680791\n",
       "006144ba49005a8c8def6428f5285a76  0.369653  0.630347\n",
       "0073e7af489a3f3c6217f323c492eacb  0.281398  0.718602\n",
       "00e32d7b8e3e9adf796bd93b43586dc9  0.344804  0.655196\n",
       "0129fadfd14ad94cb37edaaa12122172  0.342927  0.657073\n",
       "017ec7175785aea1b2340e9c5d154386  0.379287  0.620713\n",
       "01a11f024fced1fb8a0f283750c4bad9  0.372211  0.627789\n",
       "01a1dbd564fc8527b48578cfc31f9573  0.370761  0.629239\n",
       "01c60be8286a686f7b781c91705d49b0  0.332522  0.667478\n",
       "01feebba0f6c0da37a3de56b8dfb4cb4  0.353867  0.646133\n",
       "028051063c9a250a8258a00b42ea53b4  0.325330  0.674670\n",
       "02a6637f2fda72a0702581ab24fdf900  0.353738  0.646262\n",
       "02c48c94c493a6f9b22bea83a21e1574  0.323923  0.676077\n",
       "03b549515576ccf460840f4a6e71575c  0.355358  0.644642\n",
       "042ffb748d0417d38ddbea49a2a4b748  0.364564  0.635436\n",
       "04b2933f47e44da4d4c249dcb0258dc9  0.349133  0.650867\n",
       "04d5ad6ec7619e4e669510ac6ffe0fb4  0.332027  0.667973\n",
       "0553095e0398ea780aa1a299e95dbe97  0.377529  0.622471\n",
       "05bc03d92db18e9e0e13f57477759ea1  0.330539  0.669461\n",
       "05ddd260b090c1ef40c0cbad00e030a3  0.307079  0.692921\n",
       "060ea3b8265b7e9737356caba674cb18  0.224357  0.775643\n",
       "0698554efc9db657c00a6892e2455970  0.308809  0.691191\n",
       "06de0e0c6046dabaf2997b4eb97b06b9  0.373691  0.626309\n",
       "071e4a849e8ccac05ad726503cd3a18b  0.369216  0.630784\n",
       "071ff0424dd4fe0986f2afb2f7d59396  0.364620  0.635380\n",
       "07ad01a4a8307dfc0c9ab593303f2122  0.366248  0.633752\n",
       "07e6bccdafc576b9b37f43d40d1739bf  0.347547  0.652453\n",
       "082f75108ea3e8af0ec1cfd3025e61ee  0.197271  0.802729\n",
       "...                                    ...       ...\n",
       "f504c4ddd5a7d9762494c671e356c7ab  0.333107  0.666893\n",
       "f5870f88273b202c1e60db815b7e751e  0.342646  0.657354\n",
       "f5ae27f34d32b704183620a0c23ecec5  0.316253  0.683747\n",
       "f612c6dcfd523a8e0284a0a98a340482  0.342701  0.657299\n",
       "f699d9abfd4b801d6c64e6acbbe68aea  0.400105  0.599895\n",
       "f7ba109070d6f8489a736c7524d620bd  0.374495  0.625505\n",
       "f7d229df276301d2ebff3b161fdba650  0.360637  0.639363\n",
       "f7fb39f7389cd8a19cc3d2a5c23b10a8  0.382258  0.617742\n",
       "f89f89d30ed250d782c89faeb0b76add  0.315088  0.684912\n",
       "f8bf6d76fecc23b848b536ece4ff4ba1  0.359894  0.640106\n",
       "f966bba4357b8f0769f84f31dab8dea6  0.333834  0.666166\n",
       "f98f2f0595ec715f7d3ca85859e0cbf6  0.367036  0.632964\n",
       "f98f9a40e63d1239d2805a9bbbc9327a  0.349338  0.650662\n",
       "f9b1c6c6504936b35b700173df2dbce4  0.377831  0.622169\n",
       "fa1fe4e8a51c5bc37f63db62b6965b9e  0.348847  0.651153\n",
       "fa27a7391aa672f849dd7a7bed40a7eb  0.372575  0.627425\n",
       "fa303bc59d7a778c2db95e01dec2014f  0.345633  0.654367\n",
       "fa986deac14c63af21b711f36070ad49  0.344453  0.655547\n",
       "fb520ef7fa8839719a25aff8cc3f90a4  0.339928  0.660072\n",
       "fba83b3775995d72327be70896bc98a8  0.321197  0.678803\n",
       "fc34667f0e36047db001272eea3fede5  0.261103  0.738897\n",
       "fc4f8294b3e0b45d6aa2472baf6f32cf  0.368039  0.631961\n",
       "fc6f7a13ec016b08d65997c6c13f1a24  0.357390  0.642610\n",
       "fc7d00c16ca0b5451094bf8c23b56c10  0.321674  0.678326\n",
       "fd5cda616431520fcda1f8fc15f0a0f5  0.361394  0.638606\n",
       "fda05555de3eab34ffb3f7ad0828396b  0.370830  0.629170\n",
       "fdecf2082b0f7763d68de5bfa2f48d02  0.326390  0.673610\n",
       "fe22cffd7e50217fb3ef84f1a74714f7  0.351674  0.648326\n",
       "fe90c175a0678ba293755f57214926ad  0.349411  0.650589\n",
       "ff1580efc6805ea1979e0d0048bfb5a5  0.334800  0.665200\n",
       "\n",
       "[808 rows x 2 columns]"
      ]
     },
     "execution_count": 162,
     "metadata": {},
     "output_type": "execute_result"
    }
   ],
   "source": [
    "model.predict(features_test)"
   ]
  },
  {
   "cell_type": "code",
   "execution_count": 169,
   "metadata": {},
   "outputs": [
    {
     "name": "stdout",
     "output_type": "stream",
     "text": [
      "<class 'pandas.core.frame.DataFrame'>\n",
      "Int64Index: 287977 entries, 711 to 2029229\n",
      "Data columns (total 6 columns):\n",
      "event_timestamp    287977 non-null datetime64[ns]\n",
      "event_name         287977 non-null object\n",
      "user_pseudo_id     287977 non-null object\n",
      "dump_event_col     287977 non-null object\n",
      "session            287977 non-null float64\n",
      "user_session       287977 non-null object\n",
      "dtypes: datetime64[ns](1), float64(1), object(4)\n",
      "memory usage: 15.4+ MB\n"
     ]
    }
   ],
   "source": [
    "data_test_clean.info()"
   ]
  },
  {
   "cell_type": "code",
   "execution_count": 166,
   "metadata": {},
   "outputs": [
    {
     "data": {
      "image/png": "[encoded data removed]",
      "text/plain": [
       "<Figure size 432x288 with 1 Axes>"
      ]
     },
     "metadata": {
      "needs_background": "light"
     },
     "output_type": "display_data"
    }
   ],
   "source": [
    "data_test_clean.retention.learn_tsne(perplexity=10, plot_type='targets', refit=True);"
   ]
  },
  {
   "cell_type": "code",
   "execution_count": 168,
   "metadata": {},
   "outputs": [
    {
     "data": {
      "image/png": "[encoded data removed]",
      "text/plain": [
       "<Figure size 432x288 with 1 Axes>"
      ]
     },
     "metadata": {
      "needs_background": "light"
     },
     "output_type": "display_data"
    }
   ],
   "source": [
    "data_test_clean.retention.learn_tsne(index_col='user_session', plot_type='clusters', refit=True);"
   ]
  },
  {
   "cell_type": "code",
   "execution_count": 156,
   "metadata": {},
   "outputs": [
    {
     "name": "stderr",
     "output_type": "stream",
     "text": [
      "/anaconda3/lib/python3.7/site-packages/sklearn/linear_model/logistic.py:433: FutureWarning: Default solver will be changed to 'lbfgs' in 0.22. Specify a solver to silence this warning.\n",
      "  FutureWarning)\n"
     ]
    },
    {
     "name": "stdout",
     "output_type": "stream",
     "text": [
      "\n",
      "            ROC-AUC: 0.6866857251762912\n",
      "            PR-AUC: 0.8231690915326872\n",
      "            Accuracy: 0.7462871287128713\n",
      "            \n"
     ]
    },
    {
     "name": "stderr",
     "output_type": "stream",
     "text": [
      "/Users/anatolyzaytsev/.local/lib/python3.7/site-packages/pandas-0.24.2-py3.7-macosx-10.9-x86_64.egg/pandas/core/indexing.py:1494: FutureWarning: \n",
      "Passing list-likes to .loc or [] with any missing label will raise\n",
      "KeyError in the future, you can use .reindex() as an alternative.\n",
      "\n",
      "See the documentation here:\n",
      "https://pandas.pydata.org/pandas-docs/stable/indexing.html#deprecate-loc-reindex-listlike\n",
      "  return self._getitem_tuple(key)\n",
      "/anaconda3/lib/python3.7/site-packages/networkx/drawing/layout.py:923: FutureWarning: arrays to stack must be passed as a \"sequence\" type such as list or tuple. Support for non-sequence iterables such as generators is deprecated as of NumPy 1.16 and will raise an error in the future.\n",
      "  pos = np.row_stack((pos[x] for x in node_list))\n",
      "/Users/anatolyzaytsev/retentioneering-draft/retentioneering/visualization/plot.py:291: RuntimeWarning: divide by zero encountered in log1p\n",
      "  \"weight\": np.log1p(row.weight_norm) * 1.5,\n"
     ]
    },
    {
     "data": {
      "text/html": [
       "\n",
       "        <iframe\n",
       "            width=\"600\"\n",
       "            height=\"600\"\n",
       "            src=\"mobile-app/index_2019-06-28 11_22_14_723812.html\"\n",
       "            frameborder=\"0\"\n",
       "            allowfullscreen\n",
       "        ></iframe>\n",
       "        "
      ],
      "text/plain": [
       "<IPython.lib.display.IFrame at 0x1c2e4510f0>"
      ]
     },
     "metadata": {},
     "output_type": "display_data"
    }
   ],
   "source": [
    "#create model on train\n",
    "model = data_train.retention.create_model()\n",
    "\n",
    "features_train = data_train.retention.extract_features(ngram_range=(1,2))\n",
    "\n",
    "features_test = data_train.retention.extract_features_from_test(data_test_clean, train=features_train, ngram_range=(1,2), wo_last_k=0)\n",
    "\n",
    "#add targets to test\n",
    "target = features_test.index.isin(data_test_clean.retention.get_positive_users())\n",
    "\n",
    "model.permutation_importance(features_test, target, thresh=1)"
   ]
  },
  {
   "cell_type": "code",
   "execution_count": null,
   "metadata": {},
   "outputs": [],
   "source": []
  },
  {
   "cell_type": "code",
   "execution_count": 19,
   "metadata": {},
   "outputs": [
    {
     "name": "stderr",
     "output_type": "stream",
     "text": [
      "/anaconda3/lib/python3.7/site-packages/sklearn/linear_model/logistic.py:433: FutureWarning: Default solver will be changed to 'lbfgs' in 0.22. Specify a solver to silence this warning.\n",
      "  FutureWarning)\n",
      "/Users/anatolyzaytsev/.local/lib/python3.7/site-packages/pandas-0.24.2-py3.7-macosx-10.9-x86_64.egg/pandas/core/indexing.py:1494: FutureWarning: \n",
      "Passing list-likes to .loc or [] with any missing label will raise\n",
      "KeyError in the future, you can use .reindex() as an alternative.\n",
      "\n",
      "See the documentation here:\n",
      "https://pandas.pydata.org/pandas-docs/stable/indexing.html#deprecate-loc-reindex-listlike\n",
      "  return self._getitem_tuple(key)\n"
     ]
    }
   ],
   "source": [
    "#train test split\n",
    "data_train , data_test = data.retention.index_based_split(index_col='user_pseudo_id')\n",
    "\n",
    "#create model on train\n",
    "model = data_train.retention.create_model()\n",
    "\n",
    "#extract features for test\n",
    "features_test = data_train.retention.extract_features_from_test(data_test, ngram_range=(1,2))\n",
    "\n",
    "#add targets to test\n",
    "target = features_test.index.isin(data_test.retention.get_positive_users())"
   ]
  },
  {
   "cell_type": "code",
   "execution_count": 23,
   "metadata": {},
   "outputs": [
    {
     "name": "stdout",
     "output_type": "stream",
     "text": [
      "\n",
      "            ROC-AUC: 0.7335440213090015\n",
      "            PR-AUC: 0.7564212131421182\n",
      "            Accuracy: 0.685662137497465\n",
      "            \n"
     ]
    },
    {
     "name": "stderr",
     "output_type": "stream",
     "text": [
      "/Users/anatolyzaytsev/retentioneering-draft/retentioneering/visualization/plot.py:291: RuntimeWarning: divide by zero encountered in log1p\n",
      "  \"weight\": np.log1p(row.weight_norm) * 1.5,\n"
     ]
    },
    {
     "data": {
      "text/html": [
       "\n",
       "        <iframe\n",
       "            width=\"600\"\n",
       "            height=\"600\"\n",
       "            src=\"mobile-app/index_2019-06-27 19_50_45_941480.html\"\n",
       "            frameborder=\"0\"\n",
       "            allowfullscreen\n",
       "        ></iframe>\n",
       "        "
      ],
      "text/plain": [
       "<IPython.lib.display.IFrame at 0x1c27aca4e0>"
      ]
     },
     "metadata": {},
     "output_type": "display_data"
    }
   ],
   "source": [
    "model.permutation_importance(features_test, target, thresh=0.6)"
   ]
  },
  {
   "cell_type": "code",
   "execution_count": 32,
   "metadata": {},
   "outputs": [
    {
     "name": "stderr",
     "output_type": "stream",
     "text": [
      "/anaconda3/lib/python3.7/site-packages/sklearn/linear_model/logistic.py:433: FutureWarning: Default solver will be changed to 'lbfgs' in 0.22. Specify a solver to silence this warning.\n",
      "  FutureWarning)\n"
     ]
    }
   ],
   "source": [
    "model = data.retention.create_model()"
   ]
  },
  {
   "cell_type": "code",
   "execution_count": 18,
   "metadata": {},
   "outputs": [],
   "source": [
    "features = data.retention.extract_features(ngram_range=(1,2))\n",
    "target = features.index.isin(data.retention.get_positive_users())"
   ]
  },
  {
   "cell_type": "code",
   "execution_count": 22,
   "metadata": {},
   "outputs": [
    {
     "data": {
      "text/plain": [
       "array([False,  True,  True, ..., False,  True,  True])"
      ]
     },
     "execution_count": 22,
     "metadata": {},
     "output_type": "execute_result"
    }
   ],
   "source": [
    "target"
   ]
  },
  {
   "cell_type": "code",
   "execution_count": 21,
   "metadata": {},
   "outputs": [
    {
     "data": {
      "text/html": [
       "<div>\n",
       "<style scoped>\n",
       "    .dataframe tbody tr th:only-of-type {\n",
       "        vertical-align: middle;\n",
       "    }\n",
       "\n",
       "    .dataframe tbody tr th {\n",
       "        vertical-align: top;\n",
       "    }\n",
       "\n",
       "    .dataframe thead th {\n",
       "        text-align: right;\n",
       "    }\n",
       "</style>\n",
       "<table border=\"1\" class=\"dataframe\">\n",
       "  <thead>\n",
       "    <tr style=\"text-align: right;\">\n",
       "      <th></th>\n",
       "      <th>False</th>\n",
       "      <th>True</th>\n",
       "    </tr>\n",
       "  </thead>\n",
       "  <tbody>\n",
       "    <tr>\n",
       "      <th>000614144a842b8492bf67f177637996</th>\n",
       "      <td>0.521192</td>\n",
       "      <td>0.478808</td>\n",
       "    </tr>\n",
       "    <tr>\n",
       "      <th>000d184ae2d794809e8848d8c617a610</th>\n",
       "      <td>0.548006</td>\n",
       "      <td>0.451994</td>\n",
       "    </tr>\n",
       "    <tr>\n",
       "      <th>000dfdb9d14aa6b4dd8e7717ce1d0688</th>\n",
       "      <td>0.314649</td>\n",
       "      <td>0.685351</td>\n",
       "    </tr>\n",
       "    <tr>\n",
       "      <th>0010c136b28150e248cfd099ddee27b6</th>\n",
       "      <td>0.371151</td>\n",
       "      <td>0.628849</td>\n",
       "    </tr>\n",
       "    <tr>\n",
       "      <th>001552465edec679f8b991d269503019</th>\n",
       "      <td>0.265733</td>\n",
       "      <td>0.734267</td>\n",
       "    </tr>\n",
       "    <tr>\n",
       "      <th>00169b007e962a5c625f18e03ab6291c</th>\n",
       "      <td>0.278374</td>\n",
       "      <td>0.721626</td>\n",
       "    </tr>\n",
       "    <tr>\n",
       "      <th>0021435703a438ec38ae166b6523c56d</th>\n",
       "      <td>0.296398</td>\n",
       "      <td>0.703602</td>\n",
       "    </tr>\n",
       "    <tr>\n",
       "      <th>0021dead4ea07a0111dfe9928ac94e3c</th>\n",
       "      <td>0.354646</td>\n",
       "      <td>0.645354</td>\n",
       "    </tr>\n",
       "    <tr>\n",
       "      <th>00233f8d650663007d2fcc66b11f5f28</th>\n",
       "      <td>0.117068</td>\n",
       "      <td>0.882932</td>\n",
       "    </tr>\n",
       "    <tr>\n",
       "      <th>002601f0368ec2b1b1174fe04d912916</th>\n",
       "      <td>0.221483</td>\n",
       "      <td>0.778517</td>\n",
       "    </tr>\n",
       "    <tr>\n",
       "      <th>00262b2af0509547f4ddc2f2a95f597f</th>\n",
       "      <td>0.525584</td>\n",
       "      <td>0.474416</td>\n",
       "    </tr>\n",
       "    <tr>\n",
       "      <th>0026d75cd77c9b3acfb725440f35de81</th>\n",
       "      <td>0.332276</td>\n",
       "      <td>0.667724</td>\n",
       "    </tr>\n",
       "    <tr>\n",
       "      <th>00275bbc6fba94f9d77926cd609785c5</th>\n",
       "      <td>0.642985</td>\n",
       "      <td>0.357015</td>\n",
       "    </tr>\n",
       "    <tr>\n",
       "      <th>002d0da87613b1b6bcdf637d42003844</th>\n",
       "      <td>0.233445</td>\n",
       "      <td>0.766555</td>\n",
       "    </tr>\n",
       "    <tr>\n",
       "      <th>002e59ffdeae481556f670ee5c920456</th>\n",
       "      <td>0.189286</td>\n",
       "      <td>0.810714</td>\n",
       "    </tr>\n",
       "    <tr>\n",
       "      <th>002f26eef45cdb7f596c83550fb6f379</th>\n",
       "      <td>0.317048</td>\n",
       "      <td>0.682952</td>\n",
       "    </tr>\n",
       "    <tr>\n",
       "      <th>00301a5e593a16d1850a3227544ac636</th>\n",
       "      <td>0.286704</td>\n",
       "      <td>0.713296</td>\n",
       "    </tr>\n",
       "    <tr>\n",
       "      <th>003acbd7a67ccea523281171b2495296</th>\n",
       "      <td>0.254835</td>\n",
       "      <td>0.745165</td>\n",
       "    </tr>\n",
       "    <tr>\n",
       "      <th>003cadd4d4361b5cc2c8c9912b221b17</th>\n",
       "      <td>0.321694</td>\n",
       "      <td>0.678306</td>\n",
       "    </tr>\n",
       "    <tr>\n",
       "      <th>003cb01bd4535857a996ce14d36b89d5</th>\n",
       "      <td>0.596160</td>\n",
       "      <td>0.403840</td>\n",
       "    </tr>\n",
       "    <tr>\n",
       "      <th>0046eaa5bc1c843acf3455c345eb7a80</th>\n",
       "      <td>0.737424</td>\n",
       "      <td>0.262576</td>\n",
       "    </tr>\n",
       "    <tr>\n",
       "      <th>0049c27d93f290c93fc2831daa25ed9a</th>\n",
       "      <td>0.514420</td>\n",
       "      <td>0.485580</td>\n",
       "    </tr>\n",
       "    <tr>\n",
       "      <th>004abf0cd962d4268eadbf835c0e179f</th>\n",
       "      <td>0.623511</td>\n",
       "      <td>0.376489</td>\n",
       "    </tr>\n",
       "    <tr>\n",
       "      <th>0052cd6480ade27af30e138831ac4669</th>\n",
       "      <td>0.189217</td>\n",
       "      <td>0.810783</td>\n",
       "    </tr>\n",
       "    <tr>\n",
       "      <th>0053451d2893f4acc70d636889adc73d</th>\n",
       "      <td>0.410582</td>\n",
       "      <td>0.589418</td>\n",
       "    </tr>\n",
       "    <tr>\n",
       "      <th>00536fd2f1d3be802ad01901a1fcff39</th>\n",
       "      <td>0.206672</td>\n",
       "      <td>0.793328</td>\n",
       "    </tr>\n",
       "    <tr>\n",
       "      <th>0058de4a2b6bd2b751e1e47a281003f5</th>\n",
       "      <td>0.645511</td>\n",
       "      <td>0.354489</td>\n",
       "    </tr>\n",
       "    <tr>\n",
       "      <th>0059f949691138253c1402ddbf76eeff</th>\n",
       "      <td>0.494162</td>\n",
       "      <td>0.505838</td>\n",
       "    </tr>\n",
       "    <tr>\n",
       "      <th>005ab46e2f662d7ebf11fd98ae4d1679</th>\n",
       "      <td>0.108775</td>\n",
       "      <td>0.891225</td>\n",
       "    </tr>\n",
       "    <tr>\n",
       "      <th>006144ba49005a8c8def6428f5285a76</th>\n",
       "      <td>0.366231</td>\n",
       "      <td>0.633769</td>\n",
       "    </tr>\n",
       "    <tr>\n",
       "      <th>...</th>\n",
       "      <td>...</td>\n",
       "      <td>...</td>\n",
       "    </tr>\n",
       "    <tr>\n",
       "      <th>ffa9f521936c88c1227611605f81c50f</th>\n",
       "      <td>0.642844</td>\n",
       "      <td>0.357156</td>\n",
       "    </tr>\n",
       "    <tr>\n",
       "      <th>ffb1447b54c89856afad37f31634b7f1</th>\n",
       "      <td>0.561566</td>\n",
       "      <td>0.438434</td>\n",
       "    </tr>\n",
       "    <tr>\n",
       "      <th>ffb3267c58cb02d31c11e1d641e944f8</th>\n",
       "      <td>0.314091</td>\n",
       "      <td>0.685909</td>\n",
       "    </tr>\n",
       "    <tr>\n",
       "      <th>ffb55abd50e80c33b0f7dbdc39d72e3c</th>\n",
       "      <td>0.273080</td>\n",
       "      <td>0.726920</td>\n",
       "    </tr>\n",
       "    <tr>\n",
       "      <th>ffba72dc31d5384716e087f3d30e05d5</th>\n",
       "      <td>0.416258</td>\n",
       "      <td>0.583742</td>\n",
       "    </tr>\n",
       "    <tr>\n",
       "      <th>ffbc0efe51eafc50d957222225e76aec</th>\n",
       "      <td>0.563591</td>\n",
       "      <td>0.436409</td>\n",
       "    </tr>\n",
       "    <tr>\n",
       "      <th>ffbeec70b1b4f1df1a695ef15a736f33</th>\n",
       "      <td>0.159893</td>\n",
       "      <td>0.840107</td>\n",
       "    </tr>\n",
       "    <tr>\n",
       "      <th>ffc0ab3865ad11c5ff581a35761bf0dd</th>\n",
       "      <td>0.494958</td>\n",
       "      <td>0.505042</td>\n",
       "    </tr>\n",
       "    <tr>\n",
       "      <th>ffc12b6ae5cba36f19992c030a35f1e9</th>\n",
       "      <td>0.440463</td>\n",
       "      <td>0.559537</td>\n",
       "    </tr>\n",
       "    <tr>\n",
       "      <th>ffc56274115f55aff15fde0d6585f75b</th>\n",
       "      <td>0.710621</td>\n",
       "      <td>0.289379</td>\n",
       "    </tr>\n",
       "    <tr>\n",
       "      <th>ffc9c0473380fe351cb788cecc428f76</th>\n",
       "      <td>0.252617</td>\n",
       "      <td>0.747383</td>\n",
       "    </tr>\n",
       "    <tr>\n",
       "      <th>ffcd2c3be0dfa625a2128cb8ae6b31ec</th>\n",
       "      <td>0.231124</td>\n",
       "      <td>0.768876</td>\n",
       "    </tr>\n",
       "    <tr>\n",
       "      <th>ffcd66717a87eab1b8e86b35dcb473d0</th>\n",
       "      <td>0.332549</td>\n",
       "      <td>0.667451</td>\n",
       "    </tr>\n",
       "    <tr>\n",
       "      <th>ffd136dd73651363201a11ccbdee67c5</th>\n",
       "      <td>0.384616</td>\n",
       "      <td>0.615384</td>\n",
       "    </tr>\n",
       "    <tr>\n",
       "      <th>ffd1f4800b1154ff420149ba210f1d89</th>\n",
       "      <td>0.517637</td>\n",
       "      <td>0.482363</td>\n",
       "    </tr>\n",
       "    <tr>\n",
       "      <th>ffd3535f7368ed08e9912ddd61256f65</th>\n",
       "      <td>0.325199</td>\n",
       "      <td>0.674801</td>\n",
       "    </tr>\n",
       "    <tr>\n",
       "      <th>ffd3ff1da16f0717c25c0efa4debb1ea</th>\n",
       "      <td>0.137952</td>\n",
       "      <td>0.862048</td>\n",
       "    </tr>\n",
       "    <tr>\n",
       "      <th>ffd8667a1be742b74ecd171896f71d6a</th>\n",
       "      <td>0.288799</td>\n",
       "      <td>0.711201</td>\n",
       "    </tr>\n",
       "    <tr>\n",
       "      <th>ffd9abd1b5476e3b23d4d12159a7c05c</th>\n",
       "      <td>0.562665</td>\n",
       "      <td>0.437335</td>\n",
       "    </tr>\n",
       "    <tr>\n",
       "      <th>ffdaf8e3389dff8fb89448516d93a6d3</th>\n",
       "      <td>0.356966</td>\n",
       "      <td>0.643034</td>\n",
       "    </tr>\n",
       "    <tr>\n",
       "      <th>ffdb90b1a3b66ea3e9369087b8d1545d</th>\n",
       "      <td>0.348863</td>\n",
       "      <td>0.651137</td>\n",
       "    </tr>\n",
       "    <tr>\n",
       "      <th>ffddc0d54c36134f551ba51e33da56da</th>\n",
       "      <td>0.562499</td>\n",
       "      <td>0.437501</td>\n",
       "    </tr>\n",
       "    <tr>\n",
       "      <th>ffde1406030ced6aa39ca3cb382ac43a</th>\n",
       "      <td>0.114189</td>\n",
       "      <td>0.885811</td>\n",
       "    </tr>\n",
       "    <tr>\n",
       "      <th>ffe4396b8616d7e8ca1d7b4477f6653d</th>\n",
       "      <td>0.223935</td>\n",
       "      <td>0.776065</td>\n",
       "    </tr>\n",
       "    <tr>\n",
       "      <th>ffe49c2754a9442883e36e69f59aa3b1</th>\n",
       "      <td>0.233483</td>\n",
       "      <td>0.766517</td>\n",
       "    </tr>\n",
       "    <tr>\n",
       "      <th>ffe781542bbc658603cbd89b60e6a32a</th>\n",
       "      <td>0.392244</td>\n",
       "      <td>0.607756</td>\n",
       "    </tr>\n",
       "    <tr>\n",
       "      <th>fff32e705d919252bd4d6edd62c8864b</th>\n",
       "      <td>0.330260</td>\n",
       "      <td>0.669740</td>\n",
       "    </tr>\n",
       "    <tr>\n",
       "      <th>fff454b2abc6084328facfdf850b880f</th>\n",
       "      <td>0.482552</td>\n",
       "      <td>0.517448</td>\n",
       "    </tr>\n",
       "    <tr>\n",
       "      <th>fff77bb129b836449dbf5b2dcefae2ad</th>\n",
       "      <td>0.550760</td>\n",
       "      <td>0.449240</td>\n",
       "    </tr>\n",
       "    <tr>\n",
       "      <th>fffec865da328ec78360be318c905f1a</th>\n",
       "      <td>0.287099</td>\n",
       "      <td>0.712901</td>\n",
       "    </tr>\n",
       "  </tbody>\n",
       "</table>\n",
       "<p>24597 rows × 2 columns</p>\n",
       "</div>"
      ],
      "text/plain": [
       "                                     False     True \n",
       "000614144a842b8492bf67f177637996  0.521192  0.478808\n",
       "000d184ae2d794809e8848d8c617a610  0.548006  0.451994\n",
       "000dfdb9d14aa6b4dd8e7717ce1d0688  0.314649  0.685351\n",
       "0010c136b28150e248cfd099ddee27b6  0.371151  0.628849\n",
       "001552465edec679f8b991d269503019  0.265733  0.734267\n",
       "00169b007e962a5c625f18e03ab6291c  0.278374  0.721626\n",
       "0021435703a438ec38ae166b6523c56d  0.296398  0.703602\n",
       "0021dead4ea07a0111dfe9928ac94e3c  0.354646  0.645354\n",
       "00233f8d650663007d2fcc66b11f5f28  0.117068  0.882932\n",
       "002601f0368ec2b1b1174fe04d912916  0.221483  0.778517\n",
       "00262b2af0509547f4ddc2f2a95f597f  0.525584  0.474416\n",
       "0026d75cd77c9b3acfb725440f35de81  0.332276  0.667724\n",
       "00275bbc6fba94f9d77926cd609785c5  0.642985  0.357015\n",
       "002d0da87613b1b6bcdf637d42003844  0.233445  0.766555\n",
       "002e59ffdeae481556f670ee5c920456  0.189286  0.810714\n",
       "002f26eef45cdb7f596c83550fb6f379  0.317048  0.682952\n",
       "00301a5e593a16d1850a3227544ac636  0.286704  0.713296\n",
       "003acbd7a67ccea523281171b2495296  0.254835  0.745165\n",
       "003cadd4d4361b5cc2c8c9912b221b17  0.321694  0.678306\n",
       "003cb01bd4535857a996ce14d36b89d5  0.596160  0.403840\n",
       "0046eaa5bc1c843acf3455c345eb7a80  0.737424  0.262576\n",
       "0049c27d93f290c93fc2831daa25ed9a  0.514420  0.485580\n",
       "004abf0cd962d4268eadbf835c0e179f  0.623511  0.376489\n",
       "0052cd6480ade27af30e138831ac4669  0.189217  0.810783\n",
       "0053451d2893f4acc70d636889adc73d  0.410582  0.589418\n",
       "00536fd2f1d3be802ad01901a1fcff39  0.206672  0.793328\n",
       "0058de4a2b6bd2b751e1e47a281003f5  0.645511  0.354489\n",
       "0059f949691138253c1402ddbf76eeff  0.494162  0.505838\n",
       "005ab46e2f662d7ebf11fd98ae4d1679  0.108775  0.891225\n",
       "006144ba49005a8c8def6428f5285a76  0.366231  0.633769\n",
       "...                                    ...       ...\n",
       "ffa9f521936c88c1227611605f81c50f  0.642844  0.357156\n",
       "ffb1447b54c89856afad37f31634b7f1  0.561566  0.438434\n",
       "ffb3267c58cb02d31c11e1d641e944f8  0.314091  0.685909\n",
       "ffb55abd50e80c33b0f7dbdc39d72e3c  0.273080  0.726920\n",
       "ffba72dc31d5384716e087f3d30e05d5  0.416258  0.583742\n",
       "ffbc0efe51eafc50d957222225e76aec  0.563591  0.436409\n",
       "ffbeec70b1b4f1df1a695ef15a736f33  0.159893  0.840107\n",
       "ffc0ab3865ad11c5ff581a35761bf0dd  0.494958  0.505042\n",
       "ffc12b6ae5cba36f19992c030a35f1e9  0.440463  0.559537\n",
       "ffc56274115f55aff15fde0d6585f75b  0.710621  0.289379\n",
       "ffc9c0473380fe351cb788cecc428f76  0.252617  0.747383\n",
       "ffcd2c3be0dfa625a2128cb8ae6b31ec  0.231124  0.768876\n",
       "ffcd66717a87eab1b8e86b35dcb473d0  0.332549  0.667451\n",
       "ffd136dd73651363201a11ccbdee67c5  0.384616  0.615384\n",
       "ffd1f4800b1154ff420149ba210f1d89  0.517637  0.482363\n",
       "ffd3535f7368ed08e9912ddd61256f65  0.325199  0.674801\n",
       "ffd3ff1da16f0717c25c0efa4debb1ea  0.137952  0.862048\n",
       "ffd8667a1be742b74ecd171896f71d6a  0.288799  0.711201\n",
       "ffd9abd1b5476e3b23d4d12159a7c05c  0.562665  0.437335\n",
       "ffdaf8e3389dff8fb89448516d93a6d3  0.356966  0.643034\n",
       "ffdb90b1a3b66ea3e9369087b8d1545d  0.348863  0.651137\n",
       "ffddc0d54c36134f551ba51e33da56da  0.562499  0.437501\n",
       "ffde1406030ced6aa39ca3cb382ac43a  0.114189  0.885811\n",
       "ffe4396b8616d7e8ca1d7b4477f6653d  0.223935  0.776065\n",
       "ffe49c2754a9442883e36e69f59aa3b1  0.233483  0.766517\n",
       "ffe781542bbc658603cbd89b60e6a32a  0.392244  0.607756\n",
       "fff32e705d919252bd4d6edd62c8864b  0.330260  0.669740\n",
       "fff454b2abc6084328facfdf850b880f  0.482552  0.517448\n",
       "fff77bb129b836449dbf5b2dcefae2ad  0.550760  0.449240\n",
       "fffec865da328ec78360be318c905f1a  0.287099  0.712901\n",
       "\n",
       "[24597 rows x 2 columns]"
      ]
     },
     "execution_count": 21,
     "metadata": {},
     "output_type": "execute_result"
    }
   ],
   "source": [
    "model.predict(features)"
   ]
  },
  {
   "cell_type": "code",
   "execution_count": 9,
   "metadata": {},
   "outputs": [
    {
     "name": "stdout",
     "output_type": "stream",
     "text": [
      "\n",
      "            ROC-AUC: 0.7434215326281675\n",
      "            PR-AUC: 0.7655270407257424\n",
      "            Accuracy: 0.6946782127901777\n",
      "            \n"
     ]
    },
    {
     "name": "stderr",
     "output_type": "stream",
     "text": [
      "/Users/anatolyzaytsev/.local/lib/python3.7/site-packages/retentioneering-0.4.1-py3.7.egg/retentioneering/visualization/plot.py:291: RuntimeWarning: divide by zero encountered in log1p\n"
     ]
    },
    {
     "data": {
      "text/html": [
       "\n",
       "        <iframe\n",
       "            width=\"600\"\n",
       "            height=\"600\"\n",
       "            src=\"mobile-app/index_2019-06-27 16_33_37_274666.html\"\n",
       "            frameborder=\"0\"\n",
       "            allowfullscreen\n",
       "        ></iframe>\n",
       "        "
      ],
      "text/plain": [
       "<IPython.lib.display.IFrame at 0x1c2ee70ac8>"
      ]
     },
     "metadata": {},
     "output_type": "display_data"
    }
   ],
   "source": [
    "model.permutation_importance(features, target, thresh=0.)"
   ]
  },
  {
   "cell_type": "code",
   "execution_count": null,
   "metadata": {},
   "outputs": [],
   "source": []
  },
  {
   "cell_type": "markdown",
   "metadata": {},
   "source": [
    "# Predictor for purchase"
   ]
  },
  {
   "cell_type": "code",
   "execution_count": 170,
   "metadata": {},
   "outputs": [
    {
     "name": "stderr",
     "output_type": "stream",
     "text": [
      "/Users/anatolyzaytsev/retentioneering-draft/retentioneering/core/utils.py:53: UserWarning: registration of accessor <class 'retentioneering.core.utils.init_config.<locals>.RetentioneeringTrajectory'> under name 'trajectory' for type <class 'pandas.core.frame.DataFrame'> is overriding a preexisting attribute with the same name.\n",
      "  class RetentioneeringTrajectory(BaseTrajectory):\n",
      "/Users/anatolyzaytsev/retentioneering-draft/retentioneering/core/utils.py:60: UserWarning: registration of accessor <class 'retentioneering.core.utils.init_config.<locals>.RetentioneeringDataset'> under name 'retention' for type <class 'pandas.core.frame.DataFrame'> is overriding a preexisting attribute with the same name.\n",
      "  class RetentioneeringDataset(BaseDataset):\n"
     ]
    }
   ],
   "source": [
    "from retentioneering import init_config\n",
    "import pandas as pd\n",
    "\n",
    "\n",
    "init_config(\n",
    "    experiments_folder='mobile-app', # folder for saving experiment results: graph visualization, heatmaps and etc.\n",
    "    index_col='user_pseudo_id', # column by which we split users / sessions / whatever\n",
    "    event_col='event_name', # column that describes event\n",
    "    event_time_col='event_timestamp', # column that describes timestamp of event\n",
    "    positive_target_event='dandd', # name of positive target event\n",
    "    negative_target_event='not_purchase', # name of positive target event\n",
    "    negative_target_definition={},\n",
    ")"
   ]
  },
  {
   "cell_type": "code",
   "execution_count": 171,
   "metadata": {},
   "outputs": [],
   "source": [
    "data = pd.read_csv('examples/data/mobile-app-data.zip')\n",
    "data = data.sort_values('event_timestamp')\n",
    "# problems with timestamp order\n",
    "data.event_timestamp *= 1000\n",
    "# adds positive event\n",
    "data = data.retention.prepare()"
   ]
  },
  {
   "cell_type": "code",
   "execution_count": 172,
   "metadata": {},
   "outputs": [],
   "source": [
    "data = data.retention.use_tree_filter('filter_list.json')"
   ]
  },
  {
   "cell_type": "code",
   "execution_count": 173,
   "metadata": {},
   "outputs": [],
   "source": [
    "data.retention.split_sessions(by_event='session_start')\n",
    "data['user_session'] = data.user_pseudo_id + data.session.astype(int).astype(str)"
   ]
  },
  {
   "cell_type": "code",
   "execution_count": 174,
   "metadata": {},
   "outputs": [
    {
     "data": {
      "image/png": "[encoded data removed]",
      "text/plain": [
       "<Figure size 1440x720 with 2 Axes>"
      ]
     },
     "metadata": {
      "needs_background": "light"
     },
     "output_type": "display_data"
    }
   ],
   "source": [
    "f = data.retention.create_filter(index_col='user_session')\n",
    "data.retention.get_step_matrix_difference(f, index_col='user_session');"
   ]
  },
  {
   "cell_type": "code",
   "execution_count": null,
   "metadata": {},
   "outputs": [],
   "source": []
  },
  {
   "cell_type": "code",
   "execution_count": 175,
   "metadata": {},
   "outputs": [],
   "source": [
    "#train test split\n",
    "data_train , data_test = data.retention.index_based_split(index_col='user_pseudo_id')\n",
    "\n",
    "\n",
    "res = data_test.groupby(data_test.user_pseudo_id).agg({\n",
    "    'event_timestamp':'count'\n",
    "})\n",
    "\n",
    "good_users_list=res[res['event_timestamp']>100].index.values.tolist()\n",
    "\n",
    "data_test_clean = data_test[data_test.apply(lambda x: x['user_pseudo_id'] in good_users_list, axis=1)]"
   ]
  },
  {
   "cell_type": "code",
   "execution_count": 176,
   "metadata": {},
   "outputs": [
    {
     "name": "stderr",
     "output_type": "stream",
     "text": [
      "/anaconda3/lib/python3.7/site-packages/sklearn/linear_model/logistic.py:433: FutureWarning: Default solver will be changed to 'lbfgs' in 0.22. Specify a solver to silence this warning.\n",
      "  FutureWarning)\n"
     ]
    },
    {
     "name": "stdout",
     "output_type": "stream",
     "text": [
      "\n",
      "            ROC-AUC: 0.7454789253844694\n",
      "            PR-AUC: 0.753688140880333\n",
      "            Accuracy: 0.7021791767554479\n",
      "            \n"
     ]
    },
    {
     "name": "stderr",
     "output_type": "stream",
     "text": [
      "/Users/anatolyzaytsev/.local/lib/python3.7/site-packages/pandas-0.24.2-py3.7-macosx-10.9-x86_64.egg/pandas/core/indexing.py:1494: FutureWarning: \n",
      "Passing list-likes to .loc or [] with any missing label will raise\n",
      "KeyError in the future, you can use .reindex() as an alternative.\n",
      "\n",
      "See the documentation here:\n",
      "https://pandas.pydata.org/pandas-docs/stable/indexing.html#deprecate-loc-reindex-listlike\n",
      "  return self._getitem_tuple(key)\n"
     ]
    },
    {
     "data": {
      "text/html": [
       "\n",
       "        <iframe\n",
       "            width=\"600\"\n",
       "            height=\"600\"\n",
       "            src=\"mobile-app/index_2019-06-28 12_51_48_806730.html\"\n",
       "            frameborder=\"0\"\n",
       "            allowfullscreen\n",
       "        ></iframe>\n",
       "        "
      ],
      "text/plain": [
       "<IPython.lib.display.IFrame at 0x1c28340a58>"
      ]
     },
     "metadata": {},
     "output_type": "display_data"
    }
   ],
   "source": [
    "#create model on train\n",
    "model = data_train.retention.create_model()\n",
    "\n",
    "features_train = data_train.retention.extract_features(ngram_range=(1,2))\n",
    "\n",
    "features_test = data_train.retention.extract_features_from_test(data_test_clean, train=features_train, ngram_range=(1,2), wo_last_k=0)\n",
    "\n",
    "#add targets to test\n",
    "target = features_test.index.isin(data_test_clean.retention.get_positive_users())\n",
    "\n",
    "model.permutation_importance(features_test, target, thresh=1)"
   ]
  },
  {
   "cell_type": "code",
   "execution_count": 185,
   "metadata": {},
   "outputs": [
    {
     "data": {
      "image/png": "[encoded data removed]",
      "text/plain": [
       "<Figure size 432x288 with 1 Axes>"
      ]
     },
     "metadata": {
      "needs_background": "light"
     },
     "output_type": "display_data"
    }
   ],
   "source": [
    "data_test_clean.retention.learn_tsne(perplexity=40, plot_type='targets', refit=True);"
   ]
  },
  {
   "cell_type": "code",
   "execution_count": null,
   "metadata": {},
   "outputs": [],
   "source": []
  }
 ],
 "metadata": {
  "kernelspec": {
   "display_name": "Python 3",
   "language": "python",
   "name": "python3"
  },
  "language_info": {
   "codemirror_mode": {
    "name": "ipython",
    "version": 3
   },
   "file_extension": ".py",
   "mimetype": "text/x-python",
   "name": "python",
   "nbconvert_exporter": "python",
   "pygments_lexer": "ipython3",
   "version": "3.7.1"
  }
 },
 "nbformat": 4,
 "nbformat_minor": 2
}
