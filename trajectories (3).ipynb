{
 "cells": [
  {
   "cell_type": "code",
   "execution_count": 95,
   "metadata": {},
   "outputs": [],
   "source": [
    "import networkx as nx\n",
    "import numpy as np\n",
    "import csv"
   ]
  },
  {
   "cell_type": "code",
   "execution_count": 116,
   "metadata": {},
   "outputs": [],
   "source": [
    "class Agent:\n",
    "    def __init__(self, aid, pos, G):\n",
    "        self.aid = aid\n",
    "        self.pos = pos\n",
    "        self.G = G"
   ]
  },
  {
   "cell_type": "code",
   "execution_count": 214,
   "metadata": {},
   "outputs": [],
   "source": [
    "M = np.array([[0, 1, 0.00001, 0], [0, 0, 1, 0], [0, 1, 0, 1], [0, 0, 0, 0]])\n",
    "OM = np.array([[0, 0.00001, 1, 0], [0, 0, 0.00001, 0], [0, 1, 0, 1], [0, 0, 0, 0]])"
   ]
  },
  {
   "cell_type": "code",
   "execution_count": 215,
   "metadata": {},
   "outputs": [],
   "source": [
    "t = 0.2  # time for iteration\n",
    "\n",
    "N = 100  # number of agents\n",
    "\n",
    "types = [(M, 20), (OM, 80)]  # define the types here\n",
    "\n",
    "source = 0\n",
    "\n",
    "# initialize agents with matrices\n",
    "agents = []\n",
    "agent_id = 0\n",
    "\n",
    "for m, num in types:\n",
    "    G = nx.convert_matrix.from_numpy_matrix(m, create_using=nx.DiGraph)\n",
    "    for _ in range(num):\n",
    "        agents.append(Agent(agent_id, source, G))\n",
    "        agent_id += 1"
   ]
  },
  {
   "cell_type": "code",
   "execution_count": 216,
   "metadata": {},
   "outputs": [],
   "source": [
    "with open('data.csv', 'a') as writeFile:\n",
    "        writer = csv.writer(writeFile)\n",
    "        writer.writerow(['event_name','event_timestamp','user_pseudo_id'])"
   ]
  },
  {
   "cell_type": "code",
   "execution_count": 217,
   "metadata": {},
   "outputs": [],
   "source": [
    "def update_csv(it, agent):\n",
    "    screens = dict({0:'screen1', 1: 'screen2', 2: 'screen3', 3: 'screen4'})\n",
    "    with open('data.csv', 'a') as writeFile:\n",
    "        writer = csv.writer(writeFile)\n",
    "        writer.writerow([screens[agent.pos], it, str(agent.aid)])"
   ]
  },
  {
   "cell_type": "code",
   "execution_count": 218,
   "metadata": {},
   "outputs": [],
   "source": [
    "for agent in agents:\n",
    "    update_csv(0, agent)"
   ]
  },
  {
   "cell_type": "code",
   "execution_count": 219,
   "metadata": {},
   "outputs": [],
   "source": [
    "# simulate the walks\n",
    "limit = 10\n",
    "i = 1\n",
    "\n",
    "while i != limit:\n",
    "    for agent in agents:\n",
    "        weights = np.array([(key, value['weight']) for key, value in dict(agent.G[agent.pos]).items()])\n",
    "        if len(weights) != 0:\n",
    "            p = 1 - np.e ** -(np.sum(weights[:,1]) * t)\n",
    "            if p > np.random.rand():\n",
    "                agent.pos = np.random.choice(weights[:,0], p=weights[:,1] / np.sum(weights[:,1]))\n",
    "            update_csv(i, agent)\n",
    "    i += 1"
   ]
  }
 ],
 "metadata": {
  "kernelspec": {
   "display_name": "Python 3",
   "language": "python",
   "name": "python3"
  },
  "language_info": {
   "codemirror_mode": {
    "name": "ipython",
    "version": 3
   },
   "file_extension": ".py",
   "mimetype": "text/x-python",
   "name": "python",
   "nbconvert_exporter": "python",
   "pygments_lexer": "ipython3",
   "version": "3.7.1"
  }
 },
 "nbformat": 4,
 "nbformat_minor": 2
}
